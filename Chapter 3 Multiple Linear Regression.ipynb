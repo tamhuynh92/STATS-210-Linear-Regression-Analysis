{
 "cells": [
  {
   "cell_type": "markdown",
   "metadata": {},
   "source": [
    "__3.1 Consider the National Football League data in Table B.1.__ <br>\n",
    "__a.__ Fit a multiple linear regression model relating the number of games won\n",
    "to the team ’ s passing yardage (x2 ), the percentage of rushing plays (x7), and\n",
    "the opponents ’ yards rushing (x8 )"
   ]
  },
  {
   "cell_type": "code",
   "execution_count": 5,
   "metadata": {},
   "outputs": [
    {
     "data": {
      "text/plain": [
       "\n",
       "Call:\n",
       "lm(formula = y ~ x2 + x7 + x8, data = table.b1)\n",
       "\n",
       "Coefficients:\n",
       "(Intercept)           x2           x7           x8  \n",
       "  -1.808372     0.003598     0.193960    -0.004815  \n"
      ]
     },
     "metadata": {},
     "output_type": "display_data"
    }
   ],
   "source": [
    "library(MPV)\n",
    "MLR = lm(y ~ x2 + x7 + x8, data = table.b1)\n",
    "MLR\n"
   ]
  },
  {
   "cell_type": "markdown",
   "metadata": {},
   "source": [
    "__b.__ Construct the analysis - of - variance table and test for signifi cance of\n",
    "regression."
   ]
  },
  {
   "cell_type": "code",
   "execution_count": 12,
   "metadata": {},
   "outputs": [
    {
     "data": {
      "text/plain": [
       "\n",
       "Call:\n",
       "lm(formula = y ~ x2 + x7 + x8, data = table.b1)\n",
       "\n",
       "Residuals:\n",
       "    Min      1Q  Median      3Q     Max \n",
       "-3.0370 -0.7129 -0.2043  1.1101  3.7049 \n",
       "\n",
       "Coefficients:\n",
       "             Estimate Std. Error t value Pr(>|t|)    \n",
       "(Intercept) -1.808372   7.900859  -0.229 0.820899    \n",
       "x2           0.003598   0.000695   5.177 2.66e-05 ***\n",
       "x7           0.193960   0.088233   2.198 0.037815 *  \n",
       "x8          -0.004816   0.001277  -3.771 0.000938 ***\n",
       "---\n",
       "Signif. codes:  0 ‘***’ 0.001 ‘**’ 0.01 ‘*’ 0.05 ‘.’ 0.1 ‘ ’ 1\n",
       "\n",
       "Residual standard error: 1.706 on 24 degrees of freedom\n",
       "Multiple R-squared:  0.7863,\tAdjusted R-squared:  0.7596 \n",
       "F-statistic: 29.44 on 3 and 24 DF,  p-value: 3.273e-08\n"
      ]
     },
     "metadata": {},
     "output_type": "display_data"
    }
   ],
   "source": [
    "summary(MLR)"
   ]
  },
  {
   "cell_type": "markdown",
   "metadata": {},
   "source": [
    "The F-statistic is 29.44 with p-value = 3.273e-08. Hence, we reject Ho. It's indicate there is a multiple linear regression relationship\n"
   ]
  },
  {
   "cell_type": "markdown",
   "metadata": {},
   "source": [
    "__c.__ Calculate t statistics for testing the hypotheses H0 : β2 = 0, H0 : β7 = 0, and\n",
    "H0 : β8 = 0. What conclusions can you draw about the roles the variables x2 ,\n",
    "x7 , and x8 play in the model?"
   ]
  },
  {
   "cell_type": "markdown",
   "metadata": {},
   "source": [
    "|Coefficient|test-statistic|p-value|\n",
    "|-|-|-|\n",
    "|β2| 5.177|2.66e-05|\n",
    "|β7| 2.198|0.037815|\n",
    "|β8|-3.771|0.000938|\n",
    "\n"
   ]
  },
  {
   "cell_type": "markdown",
   "metadata": {},
   "source": [
    "__d.__ Calculate R^2 and RAdj\n",
    "2 for this model"
   ]
  },
  {
   "cell_type": "code",
   "execution_count": 37,
   "metadata": {},
   "outputs": [
    {
     "name": "stdout",
     "output_type": "stream",
     "text": [
      "R-squared:  0.7863069\n",
      "R-Adjusted:  0.7595953"
     ]
    }
   ],
   "source": [
    "cat(\"R-squared: \",(summary(MLR))$r.squared)\n",
    "cat(\"\\nR-Adjusted: \",(summary(MLR))$adj.r.squared)"
   ]
  },
  {
   "cell_type": "markdown",
   "metadata": {},
   "source": [
    "__e.__ Using the partial F test, determine the contribution of x 7 to the model. How\n",
    "is this partial F statistic related to the t test for β 7 calculated in part c above?"
   ]
  },
  {
   "cell_type": "code",
   "execution_count": 41,
   "metadata": {},
   "outputs": [
    {
     "data": {
      "text/plain": [
       "            Df Sum Sq Mean Sq F value   Pr(>F)    \n",
       "x2           1  76.19   76.19   26.17  3.1e-05 ***\n",
       "x7           1 139.50  139.50   47.92  3.7e-07 ***\n",
       "x8           1  41.40   41.40   14.22 0.000938 ***\n",
       "Residuals   24  69.87    2.91                     \n",
       "---\n",
       "Signif. codes:  0 ‘***’ 0.001 ‘**’ 0.01 ‘*’ 0.05 ‘.’ 0.1 ‘ ’ 1"
      ]
     },
     "metadata": {},
     "output_type": "display_data"
    }
   ],
   "source": [
    "summary(aov(MLR))"
   ]
  },
  {
   "cell_type": "markdown",
   "metadata": {},
   "source": [
    "__ The F value for x7 is 47.92 and the p-value is 3.7e-07. The test statistic here is the square of the t-statistic in part c __"
   ]
  },
  {
   "cell_type": "markdown",
   "metadata": {},
   "source": [
    "__3.2__ <br>\n",
    "Using the results of Problem 3.1, show numerically that the square of the\n",
    "simple correlation coefficient between the observed values yi and the fitted\n",
    "values ˆyi equals R2 ."
   ]
  },
  {
   "cell_type": "code",
   "execution_count": 85,
   "metadata": {},
   "outputs": [
    {
     "name": "stdout",
     "output_type": "stream",
     "text": [
      "Correlation coefficient between the observed and fitted value is:  0.7863069"
     ]
    }
   ],
   "source": [
    "coeff = (MLR)$coefficients\n",
    "fitted.y = predict(MLR, data.frame(x2 = table.b1$x2, x7 = table.b1$x7,x8 = table.b1$x8), interval = \"predict\")\n",
    "fitted.y = data.frame(fitted.y, table.b1$y)\n",
    "cat(\"Correlation coefficient between the observed and fitted value is: \", cor(fitted.y[,1],fitted.y[,4])^2)\n"
   ]
  },
  {
   "cell_type": "markdown",
   "metadata": {},
   "source": [
    "__3.3 Refer to Problem 3.1.__\n",
    "<br> __a.__ Find a 95% CI on β7."
   ]
  },
  {
   "cell_type": "code",
   "execution_count": 103,
   "metadata": {},
   "outputs": [
    {
     "data": {
      "text/html": [
       "<dl class=dl-horizontal>\n",
       "\t<dt>2.5 %</dt>\n",
       "\t\t<dd>0.012</dd>\n",
       "\t<dt>97.5 %</dt>\n",
       "\t\t<dd>0.376</dd>\n",
       "</dl>\n"
      ],
      "text/latex": [
       "\\begin{description*}\n",
       "\\item[2.5 \\textbackslash{}\\%] 0.012\n",
       "\\item[97.5 \\textbackslash{}\\%] 0.376\n",
       "\\end{description*}\n"
      ],
      "text/markdown": [
       "2.5 %\n",
       ":   0.01297.5 %\n",
       ":   0.376\n",
       "\n"
      ],
      "text/plain": [
       " 2.5 % 97.5 % \n",
       " 0.012  0.376 "
      ]
     },
     "metadata": {},
     "output_type": "display_data"
    }
   ],
   "source": [
    "round(confint(MLR, level = .95)[3,], 3)"
   ]
  },
  {
   "cell_type": "markdown",
   "metadata": {},
   "source": [
    "__b.__ Find a 95% CI on the mean number of games won by a team when\n",
    "x2 = 2300, x7 = 56.0, and x8 = 2100."
   ]
  },
  {
   "cell_type": "code",
   "execution_count": 113,
   "metadata": {},
   "outputs": [
    {
     "data": {
      "text/html": [
       "<table>\n",
       "<thead><tr><th></th><th scope=col>fit</th><th scope=col>lwr</th><th scope=col>upr</th></tr></thead>\n",
       "<tbody>\n",
       "\t<tr><th scope=row>1</th><td>7.216</td><td>6.436</td><td>7.997</td></tr>\n",
       "</tbody>\n",
       "</table>\n"
      ],
      "text/latex": [
       "\\begin{tabular}{r|lll}\n",
       "  & fit & lwr & upr\\\\\n",
       "\\hline\n",
       "\t1 & 7.216 & 6.436 & 7.997\\\\\n",
       "\\end{tabular}\n"
      ],
      "text/markdown": [
       "\n",
       "| <!--/--> | fit | lwr | upr | \n",
       "|---|\n",
       "| 1 | 7.216 | 6.436 | 7.997 | \n",
       "\n",
       "\n"
      ],
      "text/plain": [
       "  fit   lwr   upr  \n",
       "1 7.216 6.436 7.997"
      ]
     },
     "metadata": {},
     "output_type": "display_data"
    }
   ],
   "source": [
    "round(predict(MLR, data.frame(x2 = 2300, x7 = 56.0, x8 = 2100), interval = \"confidence\", level = 0.95),3)"
   ]
  },
  {
   "cell_type": "markdown",
   "metadata": {},
   "source": [
    "__3.4 Reconsider the National Football League data from Problem 3.1. Fit a model\n",
    "to these data using only x7 and x8 as the regressors.__ <br>\n",
    "__a.__ Test for significance of regression."
   ]
  },
  {
   "cell_type": "code",
   "execution_count": 119,
   "metadata": {},
   "outputs": [
    {
     "data": {
      "text/plain": [
       "\n",
       "Call:\n",
       "lm(formula = y ~ x7 + x8, data = table.b1)\n",
       "\n",
       "Coefficients:\n",
       "(Intercept)           x7           x8  \n",
       "  17.944319     0.048371    -0.006537  \n"
      ]
     },
     "metadata": {},
     "output_type": "display_data"
    }
   ],
   "source": [
    "library(MPV)\n",
    "MLR2 = lm(y ~ x7 + x8, data = table.b1)\n",
    "MLR2\n"
   ]
  },
  {
   "cell_type": "code",
   "execution_count": 123,
   "metadata": {},
   "outputs": [
    {
     "data": {
      "text/plain": [
       "\n",
       "Call:\n",
       "lm(formula = y ~ x7 + x8, data = table.b1)\n",
       "\n",
       "Residuals:\n",
       "    Min      1Q  Median      3Q     Max \n",
       "-3.7985 -1.5166 -0.5792  1.9927  4.5248 \n",
       "\n",
       "Coefficients:\n",
       "             Estimate Std. Error t value Pr(>|t|)   \n",
       "(Intercept) 17.944319   9.862484   1.819  0.08084 . \n",
       "x7           0.048371   0.119219   0.406  0.68839   \n",
       "x8          -0.006537   0.001758  -3.719  0.00102 **\n",
       "---\n",
       "Signif. codes:  0 ‘***’ 0.001 ‘**’ 0.01 ‘*’ 0.05 ‘.’ 0.1 ‘ ’ 1\n",
       "\n",
       "Residual standard error: 2.432 on 25 degrees of freedom\n",
       "Multiple R-squared:  0.5477,\tAdjusted R-squared:  0.5115 \n",
       "F-statistic: 15.13 on 2 and 25 DF,  p-value: 4.935e-05\n"
      ]
     },
     "metadata": {},
     "output_type": "display_data"
    }
   ],
   "source": [
    "summary(MLR2)"
   ]
  },
  {
   "cell_type": "markdown",
   "metadata": {},
   "source": [
    "__b.__ Calculate R2 and RAdj2 . How do these quantities compare to the values\n",
    "computed for the model in Problem 3.1, which included an additional\n",
    "regressor ( x2 )?\n"
   ]
  },
  {
   "cell_type": "code",
   "execution_count": 124,
   "metadata": {},
   "outputs": [
    {
     "name": "stdout",
     "output_type": "stream",
     "text": [
      "R-squared:  0.5476628\n",
      "R-Adjusted:  0.5114759"
     ]
    }
   ],
   "source": [
    "cat(\"R-squared: \",(summary(MLR2))$r.squared)\n",
    "cat(\"\\nR-Adjusted: \",(summary(MLR2))$adj.r.squared)"
   ]
  },
  {
   "cell_type": "markdown",
   "metadata": {},
   "source": [
    "__c.__ Calculate a 95% CI on β7 . Also find a 95% CI on the mean number of\n",
    "games won by a team when x7 = 56.0 and x8 = 2100. Compare the lengths\n",
    "of these CIs to the lengths of the corresponding CIs from Problem 3.3."
   ]
  },
  {
   "cell_type": "code",
   "execution_count": 125,
   "metadata": {},
   "outputs": [
    {
     "data": {
      "text/html": [
       "<dl class=dl-horizontal>\n",
       "\t<dt>2.5 %</dt>\n",
       "\t\t<dd>-0.197</dd>\n",
       "\t<dt>97.5 %</dt>\n",
       "\t\t<dd>0.294</dd>\n",
       "</dl>\n"
      ],
      "text/latex": [
       "\\begin{description*}\n",
       "\\item[2.5 \\textbackslash{}\\%] -0.197\n",
       "\\item[97.5 \\textbackslash{}\\%] 0.294\n",
       "\\end{description*}\n"
      ],
      "text/markdown": [
       "2.5 %\n",
       ":   -0.19797.5 %\n",
       ":   0.294\n",
       "\n"
      ],
      "text/plain": [
       " 2.5 % 97.5 % \n",
       "-0.197  0.294 "
      ]
     },
     "metadata": {},
     "output_type": "display_data"
    }
   ],
   "source": [
    "round(confint(MLR2, level = .95)[2,], 3)"
   ]
  },
  {
   "cell_type": "code",
   "execution_count": 126,
   "metadata": {},
   "outputs": [
    {
     "data": {
      "text/html": [
       "<table>\n",
       "<thead><tr><th></th><th scope=col>fit</th><th scope=col>lwr</th><th scope=col>upr</th></tr></thead>\n",
       "<tbody>\n",
       "\t<tr><th scope=row>1</th><td>6.926</td><td>5.829</td><td>8.024</td></tr>\n",
       "</tbody>\n",
       "</table>\n"
      ],
      "text/latex": [
       "\\begin{tabular}{r|lll}\n",
       "  & fit & lwr & upr\\\\\n",
       "\\hline\n",
       "\t1 & 6.926 & 5.829 & 8.024\\\\\n",
       "\\end{tabular}\n"
      ],
      "text/markdown": [
       "\n",
       "| <!--/--> | fit | lwr | upr | \n",
       "|---|\n",
       "| 1 | 6.926 | 5.829 | 8.024 | \n",
       "\n",
       "\n"
      ],
      "text/plain": [
       "  fit   lwr   upr  \n",
       "1 6.926 5.829 8.024"
      ]
     },
     "metadata": {},
     "output_type": "display_data"
    }
   ],
   "source": [
    "round(predict(MLR2, data.frame(x7 = 56.0, x8 = 2100), interval = \"confidence\", level = 0.95),3)"
   ]
  },
  {
   "cell_type": "markdown",
   "metadata": {},
   "source": [
    "__d.__ What conclusions can you draw from this problem about the consequences\n",
    "of omitting an important regressor from a model?"
   ]
  },
  {
   "cell_type": "markdown",
   "metadata": {},
   "source": [
    "It can effect many things incluyding the estimate and the standard errors of the coefficients and the value of R2"
   ]
  },
  {
   "cell_type": "markdown",
   "metadata": {},
   "source": [
    "__3.5 Consider the gasoline mileage data in Table B.3.__ <br>\n",
    "__a.__ Fit a multiple linear regression model relatmg gasoline mileage y (miles per\n",
    "gallon) to engine displacement x1 and the number of carburetor barrels x6 ."
   ]
  },
  {
   "cell_type": "code",
   "execution_count": 128,
   "metadata": {},
   "outputs": [
    {
     "data": {
      "text/plain": [
       "\n",
       "Call:\n",
       "lm(formula = y ~ x1 + x6, data = table.b3)\n",
       "\n",
       "Coefficients:\n",
       "(Intercept)           x1           x6  \n",
       "   32.88455     -0.05315      0.95922  \n"
      ]
     },
     "metadata": {},
     "output_type": "display_data"
    }
   ],
   "source": [
    "MLR3 = lm(y ~ x1 + x6, data = table.b3)\n",
    "MLR3\n"
   ]
  },
  {
   "cell_type": "markdown",
   "metadata": {},
   "source": [
    "__b.__ Construct the analysis - of - variance table and test for significance of\n",
    "regression."
   ]
  },
  {
   "cell_type": "code",
   "execution_count": 132,
   "metadata": {},
   "outputs": [
    {
     "data": {
      "text/plain": [
       "            Df Sum Sq Mean Sq F value   Pr(>F)    \n",
       "x1           1  955.7   955.7 105.290 3.67e-11 ***\n",
       "x6           1   18.6    18.6   2.048    0.163    \n",
       "Residuals   29  263.2     9.1                     \n",
       "---\n",
       "Signif. codes:  0 ‘***’ 0.001 ‘**’ 0.01 ‘*’ 0.05 ‘.’ 0.1 ‘ ’ 1"
      ]
     },
     "metadata": {},
     "output_type": "display_data"
    }
   ],
   "source": [
    "summary(aov(MLR3))"
   ]
  },
  {
   "cell_type": "code",
   "execution_count": 133,
   "metadata": {},
   "outputs": [
    {
     "data": {
      "text/plain": [
       "\n",
       "Call:\n",
       "lm(formula = y ~ x1 + x6, data = table.b3)\n",
       "\n",
       "Residuals:\n",
       "    Min      1Q  Median      3Q     Max \n",
       "-7.0623 -1.6687 -0.3628  1.6221  6.2305 \n",
       "\n",
       "Coefficients:\n",
       "             Estimate Std. Error t value Pr(>|t|)    \n",
       "(Intercept) 32.884551   1.535408  21.417  < 2e-16 ***\n",
       "x1          -0.053148   0.006137  -8.660 1.55e-09 ***\n",
       "x6           0.959223   0.670277   1.431    0.163    \n",
       "---\n",
       "Signif. codes:  0 ‘***’ 0.001 ‘**’ 0.01 ‘*’ 0.05 ‘.’ 0.1 ‘ ’ 1\n",
       "\n",
       "Residual standard error: 3.013 on 29 degrees of freedom\n",
       "Multiple R-squared:  0.7873,\tAdjusted R-squared:  0.7726 \n",
       "F-statistic: 53.67 on 2 and 29 DF,  p-value: 1.79e-10\n"
      ]
     },
     "metadata": {},
     "output_type": "display_data"
    }
   ],
   "source": [
    "summary(MLR3)"
   ]
  },
  {
   "cell_type": "markdown",
   "metadata": {},
   "source": [
    "__c.__ Calculate R2 and RAdj2 for this model. Compare this to the R2 and the RAdj2\n",
    "for the simple linear regression model relating mileage to engine displacement\n",
    "in Problem 2.4."
   ]
  },
  {
   "cell_type": "code",
   "execution_count": 134,
   "metadata": {},
   "outputs": [
    {
     "name": "stdout",
     "output_type": "stream",
     "text": [
      "R-squared:  0.7872928\n",
      "R-Adjusted:  0.7726233"
     ]
    }
   ],
   "source": [
    "cat(\"R-squared: \",(summary(MLR3))$r.squared)\n",
    "cat(\"\\nR-Adjusted: \",(summary(MLR3))$adj.r.squared)"
   ]
  },
  {
   "cell_type": "markdown",
   "metadata": {},
   "source": [
    "__d.__ Find a 95% CI for β1."
   ]
  },
  {
   "cell_type": "code",
   "execution_count": 139,
   "metadata": {},
   "outputs": [
    {
     "data": {
      "text/html": [
       "<dl class=dl-horizontal>\n",
       "\t<dt>2.5 %</dt>\n",
       "\t\t<dd>-0.0657</dd>\n",
       "\t<dt>97.5 %</dt>\n",
       "\t\t<dd>-0.0406</dd>\n",
       "</dl>\n"
      ],
      "text/latex": [
       "\\begin{description*}\n",
       "\\item[2.5 \\textbackslash{}\\%] -0.0657\n",
       "\\item[97.5 \\textbackslash{}\\%] -0.0406\n",
       "\\end{description*}\n"
      ],
      "text/markdown": [
       "2.5 %\n",
       ":   -0.065797.5 %\n",
       ":   -0.0406\n",
       "\n"
      ],
      "text/plain": [
       "  2.5 %  97.5 % \n",
       "-0.0657 -0.0406 "
      ]
     },
     "metadata": {},
     "output_type": "display_data"
    }
   ],
   "source": [
    "round(confint(MLR3, level = .95)[2,], 4)"
   ]
  },
  {
   "cell_type": "markdown",
   "metadata": {},
   "source": [
    "__e.__ Compute the t statistics for testing H0 : β1 = 0 and H0 : β6 = 0. What conclusions\n",
    "can you draw?"
   ]
  },
  {
   "cell_type": "code",
   "execution_count": 140,
   "metadata": {},
   "outputs": [
    {
     "data": {
      "text/plain": [
       "\n",
       "Call:\n",
       "lm(formula = y ~ x1 + x6, data = table.b3)\n",
       "\n",
       "Residuals:\n",
       "    Min      1Q  Median      3Q     Max \n",
       "-7.0623 -1.6687 -0.3628  1.6221  6.2305 \n",
       "\n",
       "Coefficients:\n",
       "             Estimate Std. Error t value Pr(>|t|)    \n",
       "(Intercept) 32.884551   1.535408  21.417  < 2e-16 ***\n",
       "x1          -0.053148   0.006137  -8.660 1.55e-09 ***\n",
       "x6           0.959223   0.670277   1.431    0.163    \n",
       "---\n",
       "Signif. codes:  0 ‘***’ 0.001 ‘**’ 0.01 ‘*’ 0.05 ‘.’ 0.1 ‘ ’ 1\n",
       "\n",
       "Residual standard error: 3.013 on 29 degrees of freedom\n",
       "Multiple R-squared:  0.7873,\tAdjusted R-squared:  0.7726 \n",
       "F-statistic: 53.67 on 2 and 29 DF,  p-value: 1.79e-10\n"
      ]
     },
     "metadata": {},
     "output_type": "display_data"
    }
   ],
   "source": [
    "summary(MLR3)"
   ]
  },
  {
   "cell_type": "markdown",
   "metadata": {},
   "source": [
    "__x1 is significant while x6 is not significant__"
   ]
  },
  {
   "cell_type": "markdown",
   "metadata": {},
   "source": [
    "__f.__ Find a 95% CI on the mean gasoline mileage when x1 = 275 in3 and x6 = 2 barrels."
   ]
  },
  {
   "cell_type": "code",
   "execution_count": 141,
   "metadata": {},
   "outputs": [
    {
     "data": {
      "text/html": [
       "<table>\n",
       "<thead><tr><th></th><th scope=col>fit</th><th scope=col>lwr</th><th scope=col>upr</th></tr></thead>\n",
       "<tbody>\n",
       "\t<tr><th scope=row>1</th><td>20.18739</td><td>18.87221</td><td>21.50257</td></tr>\n",
       "</tbody>\n",
       "</table>\n"
      ],
      "text/latex": [
       "\\begin{tabular}{r|lll}\n",
       "  & fit & lwr & upr\\\\\n",
       "\\hline\n",
       "\t1 & 20.18739 & 18.87221 & 21.50257\\\\\n",
       "\\end{tabular}\n"
      ],
      "text/markdown": [
       "\n",
       "| <!--/--> | fit | lwr | upr | \n",
       "|---|\n",
       "| 1 | 20.18739 | 18.87221 | 21.50257 | \n",
       "\n",
       "\n"
      ],
      "text/plain": [
       "  fit      lwr      upr     \n",
       "1 20.18739 18.87221 21.50257"
      ]
     },
     "metadata": {},
     "output_type": "display_data"
    }
   ],
   "source": [
    "predict(MLR3, data.frame(x1 = 275, x6 = 2), interval = \"confidence\", level = .95)"
   ]
  },
  {
   "cell_type": "markdown",
   "metadata": {},
   "source": [
    "__g.__ Find a 95% prediction interval for a new observation on gasoline mileage\n",
    "when x1 = 257 in. 3 and x6 = 2 barrels."
   ]
  },
  {
   "cell_type": "code",
   "execution_count": 142,
   "metadata": {},
   "outputs": [
    {
     "data": {
      "text/html": [
       "<table>\n",
       "<thead><tr><th></th><th scope=col>fit</th><th scope=col>lwr</th><th scope=col>upr</th></tr></thead>\n",
       "<tbody>\n",
       "\t<tr><th scope=row>1</th><td>20.18739</td><td>13.8867 </td><td>26.48808</td></tr>\n",
       "</tbody>\n",
       "</table>\n"
      ],
      "text/latex": [
       "\\begin{tabular}{r|lll}\n",
       "  & fit & lwr & upr\\\\\n",
       "\\hline\n",
       "\t1 & 20.18739 & 13.8867  & 26.48808\\\\\n",
       "\\end{tabular}\n"
      ],
      "text/markdown": [
       "\n",
       "| <!--/--> | fit | lwr | upr | \n",
       "|---|\n",
       "| 1 | 20.18739 | 13.8867  | 26.48808 | \n",
       "\n",
       "\n"
      ],
      "text/plain": [
       "  fit      lwr     upr     \n",
       "1 20.18739 13.8867 26.48808"
      ]
     },
     "metadata": {},
     "output_type": "display_data"
    }
   ],
   "source": [
    "predict(MLR3, data.frame(x1 = 275, x6 = 2), interval = \"prediction\", level = .95)"
   ]
  },
  {
   "cell_type": "markdown",
   "metadata": {},
   "source": [
    "__3.6 In Problem 2.4 you were asked to compute a 95% CI on mean gasoline prediction\n",
    "interval on mileage when the engine displacement x 1 = 275 in. 3\n",
    "Compare the lengths of these intervals to the lengths of the confi dence and\n",
    "prediction intervals from Problem 3.5 above. Does this tell you anything\n",
    "about the benefi ts of adding x 6 to the model?__"
   ]
  },
  {
   "cell_type": "markdown",
   "metadata": {},
   "source": [
    "The lengths are almost the same which indicate x6 is not help"
   ]
  },
  {
   "cell_type": "markdown",
   "metadata": {},
   "source": [
    "__3.7 Consider the house price data in Table B.4.__ <br>\n",
    "__a.__ Fit a multiple regression model relating selling price to all nine\n",
    "regressors. <br>\n",
    "__b.__ Test for signifi cance of regression. What conclusions can you draw? <br>\n",
    "__c.__ Use t tests to assess the contribution of each regressor to the model.\n",
    "Discuss your findings. <br>\n",
    "__d.__ What is the contribution of lot size and living space to the model given\n",
    "that all of the other regressors are included? <br>\n",
    "__e.__ Is multicollinearity a potential problem in this model? <br>"
   ]
  },
  {
   "cell_type": "code",
   "execution_count": 151,
   "metadata": {},
   "outputs": [
    {
     "data": {
      "text/plain": [
       "\n",
       "Call:\n",
       "lm(formula = y ~ x1 + x2 + x3 + x4 + x5 + x6 + x7 + x8 + x9, \n",
       "    data = table.b4)\n",
       "\n",
       "Coefficients:\n",
       "(Intercept)           x1           x2           x3           x4           x5  \n",
       "   14.92765      1.92472      7.00053      0.14918      2.72281      2.00668  \n",
       "         x6           x7           x8           x9  \n",
       "   -0.41012     -1.40324     -0.03715      1.55945  \n"
      ]
     },
     "metadata": {},
     "output_type": "display_data"
    }
   ],
   "source": [
    "#a\n",
    "MLR4 = lm(y ~ x1+x2+x3+x4+x5+x6+x7+x8+x9, data = table.b4)\n",
    "MLR4"
   ]
  },
  {
   "cell_type": "code",
   "execution_count": 152,
   "metadata": {},
   "outputs": [
    {
     "data": {
      "text/plain": [
       "\n",
       "Call:\n",
       "lm(formula = y ~ x1 + x2 + x3 + x4 + x5 + x6 + x7 + x8 + x9, \n",
       "    data = table.b4)\n",
       "\n",
       "Residuals:\n",
       "   Min     1Q Median     3Q    Max \n",
       "-3.720 -1.956 -0.045  1.627  4.253 \n",
       "\n",
       "Coefficients:\n",
       "            Estimate Std. Error t value Pr(>|t|)  \n",
       "(Intercept) 14.92765    5.91285   2.525   0.0243 *\n",
       "x1           1.92472    1.02990   1.869   0.0827 .\n",
       "x2           7.00053    4.30037   1.628   0.1258  \n",
       "x3           0.14918    0.49039   0.304   0.7654  \n",
       "x4           2.72281    4.35955   0.625   0.5423  \n",
       "x5           2.00668    1.37351   1.461   0.1661  \n",
       "x6          -0.41012    2.37854  -0.172   0.8656  \n",
       "x7          -1.40324    3.39554  -0.413   0.6857  \n",
       "x8          -0.03715    0.06672  -0.557   0.5865  \n",
       "x9           1.55945    1.93750   0.805   0.4343  \n",
       "---\n",
       "Signif. codes:  0 ‘***’ 0.001 ‘**’ 0.01 ‘*’ 0.05 ‘.’ 0.1 ‘ ’ 1\n",
       "\n",
       "Residual standard error: 2.949 on 14 degrees of freedom\n",
       "Multiple R-squared:  0.8531,\tAdjusted R-squared:  0.7587 \n",
       "F-statistic: 9.037 on 9 and 14 DF,  p-value: 0.000185\n"
      ]
     },
     "metadata": {},
     "output_type": "display_data"
    }
   ],
   "source": [
    "#b\n",
    "summary(MLR4)"
   ]
  },
  {
   "cell_type": "markdown",
   "metadata": {},
   "source": [
    "__ F-statistic: 9.037 on 9 and 14 DF,  p-value: 0.000185 which is significant__"
   ]
  },
  {
   "cell_type": "code",
   "execution_count": 155,
   "metadata": {},
   "outputs": [
    {
     "data": {
      "text/html": [
       "<table>\n",
       "<thead><tr><th></th><th scope=col>Estimate</th><th scope=col>Std. Error</th><th scope=col>t value</th><th scope=col>Pr(&gt;|t|)</th></tr></thead>\n",
       "<tbody>\n",
       "\t<tr><th scope=row>(Intercept)</th><td>14.92764759</td><td>5.9128516  </td><td> 2.5246106 </td><td>0.02428304 </td></tr>\n",
       "\t<tr><th scope=row>x1</th><td> 1.92472156</td><td>1.0299013  </td><td> 1.8688408 </td><td>0.08271059 </td></tr>\n",
       "\t<tr><th scope=row>x2</th><td> 7.00053420</td><td>4.3003717  </td><td> 1.6278905 </td><td>0.12583613 </td></tr>\n",
       "\t<tr><th scope=row>x3</th><td> 0.14917793</td><td>0.4903874  </td><td> 0.3042043 </td><td>0.76544692 </td></tr>\n",
       "\t<tr><th scope=row>x4</th><td> 2.72280790</td><td>4.3595535  </td><td> 0.6245612 </td><td>0.54230434 </td></tr>\n",
       "\t<tr><th scope=row>x5</th><td> 2.00668402</td><td>1.3735086  </td><td> 1.4609912 </td><td>0.16609649 </td></tr>\n",
       "\t<tr><th scope=row>x6</th><td>-0.41012376</td><td>2.3785444  </td><td>-0.1724264 </td><td>0.86557016 </td></tr>\n",
       "\t<tr><th scope=row>x7</th><td>-1.40323530</td><td>3.3955419  </td><td>-0.4132581 </td><td>0.68567761 </td></tr>\n",
       "\t<tr><th scope=row>x8</th><td>-0.03714908</td><td>0.0667199  </td><td>-0.5567916 </td><td>0.58646103 </td></tr>\n",
       "\t<tr><th scope=row>x9</th><td> 1.55944663</td><td>1.9374959  </td><td> 0.8048774 </td><td>0.43434718 </td></tr>\n",
       "</tbody>\n",
       "</table>\n"
      ],
      "text/latex": [
       "\\begin{tabular}{r|llll}\n",
       "  & Estimate & Std. Error & t value & Pr(>\\textbar{}t\\textbar{})\\\\\n",
       "\\hline\n",
       "\t(Intercept) & 14.92764759 & 5.9128516   &  2.5246106  & 0.02428304 \\\\\n",
       "\tx1 &  1.92472156 & 1.0299013   &  1.8688408  & 0.08271059 \\\\\n",
       "\tx2 &  7.00053420 & 4.3003717   &  1.6278905  & 0.12583613 \\\\\n",
       "\tx3 &  0.14917793 & 0.4903874   &  0.3042043  & 0.76544692 \\\\\n",
       "\tx4 &  2.72280790 & 4.3595535   &  0.6245612  & 0.54230434 \\\\\n",
       "\tx5 &  2.00668402 & 1.3735086   &  1.4609912  & 0.16609649 \\\\\n",
       "\tx6 & -0.41012376 & 2.3785444   & -0.1724264  & 0.86557016 \\\\\n",
       "\tx7 & -1.40323530 & 3.3955419   & -0.4132581  & 0.68567761 \\\\\n",
       "\tx8 & -0.03714908 & 0.0667199   & -0.5567916  & 0.58646103 \\\\\n",
       "\tx9 &  1.55944663 & 1.9374959   &  0.8048774  & 0.43434718 \\\\\n",
       "\\end{tabular}\n"
      ],
      "text/markdown": [
       "\n",
       "| <!--/--> | Estimate | Std. Error | t value | Pr(>|t|) | \n",
       "|---|---|---|---|---|---|---|---|---|---|\n",
       "| (Intercept) | 14.92764759 | 5.9128516   |  2.5246106  | 0.02428304  | \n",
       "| x1 |  1.92472156 | 1.0299013   |  1.8688408  | 0.08271059  | \n",
       "| x2 |  7.00053420 | 4.3003717   |  1.6278905  | 0.12583613  | \n",
       "| x3 |  0.14917793 | 0.4903874   |  0.3042043  | 0.76544692  | \n",
       "| x4 |  2.72280790 | 4.3595535   |  0.6245612  | 0.54230434  | \n",
       "| x5 |  2.00668402 | 1.3735086   |  1.4609912  | 0.16609649  | \n",
       "| x6 | -0.41012376 | 2.3785444   | -0.1724264  | 0.86557016  | \n",
       "| x7 | -1.40323530 | 3.3955419   | -0.4132581  | 0.68567761  | \n",
       "| x8 | -0.03714908 | 0.0667199   | -0.5567916  | 0.58646103  | \n",
       "| x9 |  1.55944663 | 1.9374959   |  0.8048774  | 0.43434718  | \n",
       "\n",
       "\n"
      ],
      "text/plain": [
       "            Estimate    Std. Error t value    Pr(>|t|)  \n",
       "(Intercept) 14.92764759 5.9128516   2.5246106 0.02428304\n",
       "x1           1.92472156 1.0299013   1.8688408 0.08271059\n",
       "x2           7.00053420 4.3003717   1.6278905 0.12583613\n",
       "x3           0.14917793 0.4903874   0.3042043 0.76544692\n",
       "x4           2.72280790 4.3595535   0.6245612 0.54230434\n",
       "x5           2.00668402 1.3735086   1.4609912 0.16609649\n",
       "x6          -0.41012376 2.3785444  -0.1724264 0.86557016\n",
       "x7          -1.40323530 3.3955419  -0.4132581 0.68567761\n",
       "x8          -0.03714908 0.0667199  -0.5567916 0.58646103\n",
       "x9           1.55944663 1.9374959   0.8048774 0.43434718"
      ]
     },
     "metadata": {},
     "output_type": "display_data"
    }
   ],
   "source": [
    "#c. \n",
    "summary(MLR4)$coefficients"
   ]
  },
  {
   "cell_type": "markdown",
   "metadata": {},
   "source": [
    "__ None of the t-test are siginificant. __"
   ]
  },
  {
   "cell_type": "code",
   "execution_count": 157,
   "metadata": {},
   "outputs": [
    {
     "data": {
      "text/plain": [
       "            Df Sum Sq Mean Sq F value   Pr(>F)    \n",
       "x1           1  636.2   636.2  73.152 6.24e-07 ***\n",
       "x2           1   29.2    29.2   3.355   0.0884 .  \n",
       "x3           1    4.7     4.7   0.542   0.4739    \n",
       "x4           1    0.0     0.0   0.003   0.9554    \n",
       "x5           1    8.8     8.8   1.009   0.3322    \n",
       "x6           1   13.0    13.0   1.498   0.2411    \n",
       "x7           1    9.1     9.1   1.052   0.3225    \n",
       "x8           1    0.6     0.6   0.074   0.7894    \n",
       "x9           1    5.6     5.6   0.648   0.4343    \n",
       "Residuals   14  121.7     8.7                     \n",
       "---\n",
       "Signif. codes:  0 ‘***’ 0.001 ‘**’ 0.01 ‘*’ 0.05 ‘.’ 0.1 ‘ ’ 1"
      ]
     },
     "metadata": {},
     "output_type": "display_data"
    }
   ],
   "source": [
    "summary(aov(MLR4))\n"
   ]
  },
  {
   "cell_type": "markdown",
   "metadata": {},
   "source": [
    "There is a multicollinearity a potential problem in this model"
   ]
  },
  {
   "cell_type": "markdown",
   "metadata": {},
   "source": [
    "__3.8 The data in Table B.5 present the performance of a chemical process as a\n",
    "function of sever controllable process variables.__ <br>\n",
    "__a.__ Fit a multiple regression model relating CO2 product (y) to total solvent\n",
    "(x6) and hydrogen consumption (x7). <br>\n",
    "__b.__ Test for signifi cance of regression. Calculate R2 and RAdj2 . <br>\n",
    "__c.__ Using t tests determine the contribution of x6 and x7 to the model.<br>\n",
    "__d.__ Construct 95% CIs on β6 and β7 . <br>\n",
    "__e.__ Refit the model using only x6 as the regressor. Test for significance of\n",
    "regression and calculate R2 and RAdj2. Discuss your findings. Based on these\n",
    "statistics, are you satisfi ed with this model? <br>\n",
    "__f.__ Construct a 95% CI on β6 using the model you fit in part e. Compare the\n",
    "length of this CI to the length of the CI in part d. Does this tell you anything\n",
    "important about the contribution of x7 to the model? <br>\n",
    "__g.__ Compare the values of MS Res obtained for the two models you have fit\n",
    "(parts a and e). How did the MS Res change when you removed x7 from the\n",
    "model? Does this tell you anything important about the contribution of x \n",
    "to the model?"
   ]
  },
  {
   "cell_type": "code",
   "execution_count": 21,
   "metadata": {},
   "outputs": [
    {
     "data": {
      "text/plain": [
       "\n",
       "Call:\n",
       "lm(formula = y ~ x6 + x7, data = table.b5)\n",
       "\n",
       "Coefficients:\n",
       "(Intercept)           x6           x7  \n",
       "    2.52646      0.01852      2.18575  \n"
      ]
     },
     "metadata": {},
     "output_type": "display_data"
    }
   ],
   "source": [
    "#a\n",
    "library(MPV)\n",
    "LMR8 = lm(y ~ x6 + x7, data = table.b5)\n",
    "LMR8"
   ]
  },
  {
   "cell_type": "code",
   "execution_count": 3,
   "metadata": {},
   "outputs": [
    {
     "data": {
      "text/plain": [
       "\n",
       "Call:\n",
       "lm(formula = y ~ x6 + x7, data = table.b5)\n",
       "\n",
       "Residuals:\n",
       "     Min       1Q   Median       3Q      Max \n",
       "-23.2035  -4.3713   0.2513   4.9339  21.9682 \n",
       "\n",
       "Coefficients:\n",
       "            Estimate Std. Error t value Pr(>|t|)    \n",
       "(Intercept) 2.526460   3.610055   0.700   0.4908    \n",
       "x6          0.018522   0.002747   6.742 5.66e-07 ***\n",
       "x7          2.185753   0.972696   2.247   0.0341 *  \n",
       "---\n",
       "Signif. codes:  0 ‘***’ 0.001 ‘**’ 0.01 ‘*’ 0.05 ‘.’ 0.1 ‘ ’ 1\n",
       "\n",
       "Residual standard error: 9.924 on 24 degrees of freedom\n",
       "Multiple R-squared:  0.6996,\tAdjusted R-squared:  0.6746 \n",
       "F-statistic: 27.95 on 2 and 24 DF,  p-value: 5.391e-07\n"
      ]
     },
     "metadata": {},
     "output_type": "display_data"
    }
   ],
   "source": [
    "#b\n",
    "summary(LMR8)"
   ]
  },
  {
   "cell_type": "code",
   "execution_count": 4,
   "metadata": {},
   "outputs": [
    {
     "data": {
      "text/html": [
       "<table>\n",
       "<thead><tr><th></th><th scope=col>Estimate</th><th scope=col>Std. Error</th><th scope=col>t value</th><th scope=col>Pr(&gt;|t|)</th></tr></thead>\n",
       "<tbody>\n",
       "\t<tr><th scope=row>(Intercept)</th><td>2.526460    </td><td>3.61005487  </td><td>0.6998398   </td><td>4.907559e-01</td></tr>\n",
       "\t<tr><th scope=row>x6</th><td>0.018522    </td><td>0.00274725  </td><td>6.7420158   </td><td>5.662928e-07</td></tr>\n",
       "\t<tr><th scope=row>x7</th><td>2.185753    </td><td>0.97269576  </td><td>2.2471085   </td><td>3.409779e-02</td></tr>\n",
       "</tbody>\n",
       "</table>\n"
      ],
      "text/latex": [
       "\\begin{tabular}{r|llll}\n",
       "  & Estimate & Std. Error & t value & Pr(>\\textbar{}t\\textbar{})\\\\\n",
       "\\hline\n",
       "\t(Intercept) & 2.526460     & 3.61005487   & 0.6998398    & 4.907559e-01\\\\\n",
       "\tx6 & 0.018522     & 0.00274725   & 6.7420158    & 5.662928e-07\\\\\n",
       "\tx7 & 2.185753     & 0.97269576   & 2.2471085    & 3.409779e-02\\\\\n",
       "\\end{tabular}\n"
      ],
      "text/markdown": [
       "\n",
       "| <!--/--> | Estimate | Std. Error | t value | Pr(>|t|) | \n",
       "|---|---|---|\n",
       "| (Intercept) | 2.526460     | 3.61005487   | 0.6998398    | 4.907559e-01 | \n",
       "| x6 | 0.018522     | 0.00274725   | 6.7420158    | 5.662928e-07 | \n",
       "| x7 | 2.185753     | 0.97269576   | 2.2471085    | 3.409779e-02 | \n",
       "\n",
       "\n"
      ],
      "text/plain": [
       "            Estimate Std. Error t value   Pr(>|t|)    \n",
       "(Intercept) 2.526460 3.61005487 0.6998398 4.907559e-01\n",
       "x6          0.018522 0.00274725 6.7420158 5.662928e-07\n",
       "x7          2.185753 0.97269576 2.2471085 3.409779e-02"
      ]
     },
     "metadata": {},
     "output_type": "display_data"
    }
   ],
   "source": [
    "#c\n",
    "summary(LMR8)$coefficients"
   ]
  },
  {
   "cell_type": "markdown",
   "metadata": {},
   "source": [
    "Both x6 and x7 are significant\n"
   ]
  },
  {
   "cell_type": "code",
   "execution_count": 5,
   "metadata": {},
   "outputs": [
    {
     "data": {
      "text/html": [
       "<table>\n",
       "<thead><tr><th></th><th scope=col>2.5 %</th><th scope=col>97.5 %</th></tr></thead>\n",
       "<tbody>\n",
       "\t<tr><th scope=row>(Intercept)</th><td>-4.92432697</td><td>9.97724714 </td></tr>\n",
       "\t<tr><th scope=row>x6</th><td> 0.01285196</td><td>0.02419204 </td></tr>\n",
       "\t<tr><th scope=row>x7</th><td> 0.17820756</td><td>4.19329833 </td></tr>\n",
       "</tbody>\n",
       "</table>\n"
      ],
      "text/latex": [
       "\\begin{tabular}{r|ll}\n",
       "  & 2.5 \\% & 97.5 \\%\\\\\n",
       "\\hline\n",
       "\t(Intercept) & -4.92432697 & 9.97724714 \\\\\n",
       "\tx6 &  0.01285196 & 0.02419204 \\\\\n",
       "\tx7 &  0.17820756 & 4.19329833 \\\\\n",
       "\\end{tabular}\n"
      ],
      "text/markdown": [
       "\n",
       "| <!--/--> | 2.5 % | 97.5 % | \n",
       "|---|---|---|\n",
       "| (Intercept) | -4.92432697 | 9.97724714  | \n",
       "| x6 |  0.01285196 | 0.02419204  | \n",
       "| x7 |  0.17820756 | 4.19329833  | \n",
       "\n",
       "\n"
      ],
      "text/plain": [
       "            2.5 %       97.5 %    \n",
       "(Intercept) -4.92432697 9.97724714\n",
       "x6           0.01285196 0.02419204\n",
       "x7           0.17820756 4.19329833"
      ]
     },
     "metadata": {},
     "output_type": "display_data"
    }
   ],
   "source": [
    "#d\n",
    "confint(LMR8)"
   ]
  },
  {
   "cell_type": "code",
   "execution_count": 7,
   "metadata": {},
   "outputs": [
    {
     "data": {
      "text/plain": [
       "\n",
       "Call:\n",
       "lm(formula = y ~ x6, data = table.b5)\n",
       "\n",
       "Residuals:\n",
       "    Min      1Q  Median      3Q     Max \n",
       "-28.081  -5.829  -0.839   5.522  26.882 \n",
       "\n",
       "Coefficients:\n",
       "            Estimate Std. Error t value Pr(>|t|)    \n",
       "(Intercept) 6.144181   3.483064   1.764   0.0899 .  \n",
       "x6          0.019395   0.002932   6.616 6.24e-07 ***\n",
       "---\n",
       "Signif. codes:  0 ‘***’ 0.001 ‘**’ 0.01 ‘*’ 0.05 ‘.’ 0.1 ‘ ’ 1\n",
       "\n",
       "Residual standard error: 10.7 on 25 degrees of freedom\n",
       "Multiple R-squared:  0.6365,\tAdjusted R-squared:  0.6219 \n",
       "F-statistic: 43.77 on 1 and 25 DF,  p-value: 6.238e-07\n"
      ]
     },
     "metadata": {},
     "output_type": "display_data"
    }
   ],
   "source": [
    "#e\n",
    "LMR8.2 = lm(y ~ x6, data = table.b5)\n",
    "summary(LMR8.2)"
   ]
  },
  {
   "cell_type": "markdown",
   "metadata": {},
   "source": [
    "These are similar to b"
   ]
  },
  {
   "cell_type": "code",
   "execution_count": 9,
   "metadata": {},
   "outputs": [
    {
     "data": {
      "text/html": [
       "<table>\n",
       "<thead><tr><th></th><th scope=col>2.5 %</th><th scope=col>97.5 %</th></tr></thead>\n",
       "<tbody>\n",
       "\t<tr><th scope=row>(Intercept)</th><td>-1.02932458</td><td>13.31768586</td></tr>\n",
       "\t<tr><th scope=row>x6</th><td> 0.01335688</td><td> 0.02543261</td></tr>\n",
       "</tbody>\n",
       "</table>\n"
      ],
      "text/latex": [
       "\\begin{tabular}{r|ll}\n",
       "  & 2.5 \\% & 97.5 \\%\\\\\n",
       "\\hline\n",
       "\t(Intercept) & -1.02932458 & 13.31768586\\\\\n",
       "\tx6 &  0.01335688 &  0.02543261\\\\\n",
       "\\end{tabular}\n"
      ],
      "text/markdown": [
       "\n",
       "| <!--/--> | 2.5 % | 97.5 % | \n",
       "|---|---|\n",
       "| (Intercept) | -1.02932458 | 13.31768586 | \n",
       "| x6 |  0.01335688 |  0.02543261 | \n",
       "\n",
       "\n"
      ],
      "text/plain": [
       "            2.5 %       97.5 %     \n",
       "(Intercept) -1.02932458 13.31768586\n",
       "x6           0.01335688  0.02543261"
      ]
     },
     "metadata": {},
     "output_type": "display_data"
    }
   ],
   "source": [
    "#f\n",
    "confint(LMR8.2)"
   ]
  },
  {
   "cell_type": "markdown",
   "metadata": {},
   "source": [
    "The length of this confidence interval is the same as the one in d "
   ]
  },
  {
   "cell_type": "markdown",
   "metadata": {},
   "source": [
    " __3.16 Rossman [ 1994 ] presents an interesting study of average life expectancy of\n",
    "40 countries. Table B.16 gives the data. <br>The study has three responses: <br>LifeExp\n",
    "is the overall average life expectancy.<br> LifeExpMale is the average life expectancy\n",
    "for males, and <br>LifeExpFemale is the average life expectancy for females.<br><br>\n",
    "The regressors are<br> People - per - TV, which is the average number of people per\n",
    "television, and<br> People - per - Dr, which is the average number of people per\n",
    "physician.__ <br><br>\n",
    "__a.__ Fit different multiple linear regression models for each response. <br>\n",
    "__b.__ Test each model for signifi cance of regression. What conclusions can you\n",
    "draw? <br>\n",
    "__c.__ Use t tests to assess the contribution of each regressor to each model.\n",
    "Discuss your findings. <br>\n",
    "__d.__ Calculate R2 and RAdj2 for each model. <br>\n",
    "__e.__ Find a 95% CI for the regression coefficient for People - per - Dr in each model. <br>"
   ]
  },
  {
   "cell_type": "code",
   "execution_count": 30,
   "metadata": {},
   "outputs": [
    {
     "data": {
      "text/html": [
       "<ol class=list-inline>\n",
       "\t<li>'Country'</li>\n",
       "\t<li>'LifeExp'</li>\n",
       "\t<li>'People.per.TV'</li>\n",
       "\t<li>'People.per.Dr'</li>\n",
       "\t<li>'LifeExpMale'</li>\n",
       "\t<li>'LifeExpFemale'</li>\n",
       "</ol>\n"
      ],
      "text/latex": [
       "\\begin{enumerate*}\n",
       "\\item 'Country'\n",
       "\\item 'LifeExp'\n",
       "\\item 'People.per.TV'\n",
       "\\item 'People.per.Dr'\n",
       "\\item 'LifeExpMale'\n",
       "\\item 'LifeExpFemale'\n",
       "\\end{enumerate*}\n"
      ],
      "text/markdown": [
       "1. 'Country'\n",
       "2. 'LifeExp'\n",
       "3. 'People.per.TV'\n",
       "4. 'People.per.Dr'\n",
       "5. 'LifeExpMale'\n",
       "6. 'LifeExpFemale'\n",
       "\n",
       "\n"
      ],
      "text/plain": [
       "[1] \"Country\"       \"LifeExp\"       \"People.per.TV\" \"People.per.Dr\"\n",
       "[5] \"LifeExpMale\"   \"LifeExpFemale\""
      ]
     },
     "metadata": {},
     "output_type": "display_data"
    }
   ],
   "source": [
    "#a Fit different multiple linear regression models for each response. \n",
    "tableb16 = read.table(\"tableb16.csv\", sep = \",\", header = TRUE)\n",
    "names(tableb16)"
   ]
  },
  {
   "cell_type": "code",
   "execution_count": 29,
   "metadata": {},
   "outputs": [
    {
     "name": "stdout",
     "output_type": "stream",
     "text": [
      "LifeExp:\n"
     ]
    },
    {
     "data": {
      "text/plain": [
       "\n",
       "Call:\n",
       "lm(formula = LifeExp ~ People.per.Dr + People.per.TV, data = tableb16)\n",
       "\n",
       "Coefficients:\n",
       "  (Intercept)  People.per.Dr  People.per.TV  \n",
       "    70.236265      -0.000447      -0.022607  \n"
      ]
     },
     "metadata": {},
     "output_type": "display_data"
    }
   ],
   "source": [
    "#a\n",
    "#For LifeExp:\n",
    "LifeExp = lm(LifeExp ~ People.per.Dr + People.per.TV, data = tableb16)\n",
    "cat(\"LifeExp:\\n\")\n",
    "LifeExp\n"
   ]
  },
  {
   "cell_type": "code",
   "execution_count": 31,
   "metadata": {},
   "outputs": [
    {
     "name": "stdout",
     "output_type": "stream",
     "text": [
      "LifeExpMale:\n"
     ]
    },
    {
     "data": {
      "text/plain": [
       "\n",
       "Call:\n",
       "lm(formula = LifeExpMale ~ People.per.Dr + People.per.TV, data = tableb16)\n",
       "\n",
       "Coefficients:\n",
       "  (Intercept)  People.per.Dr  People.per.TV  \n",
       "   73.0919445     -0.0004785     -0.0256825  \n"
      ]
     },
     "metadata": {},
     "output_type": "display_data"
    }
   ],
   "source": [
    "#For LifeExpMale:\n",
    "LifeExpMale = lm(LifeExpMale ~ People.per.Dr + People.per.TV, data = tableb16)\n",
    "cat(\"LifeExpMale:\\n\")\n",
    "LifeExpMale"
   ]
  },
  {
   "cell_type": "code",
   "execution_count": 32,
   "metadata": {},
   "outputs": [
    {
     "name": "stdout",
     "output_type": "stream",
     "text": [
      "LifeExpFemale:\n"
     ]
    },
    {
     "data": {
      "text/plain": [
       "\n",
       "Call:\n",
       "lm(formula = LifeExpFemale ~ People.per.Dr + People.per.TV, data = tableb16)\n",
       "\n",
       "Coefficients:\n",
       "  (Intercept)  People.per.Dr  People.per.TV  \n",
       "   67.4297595     -0.0004086     -0.0198637  \n"
      ]
     },
     "metadata": {},
     "output_type": "display_data"
    }
   ],
   "source": [
    "#For LifeExpFemale:\n",
    "LifeExpFemale = lm(LifeExpFemale ~ People.per.Dr + People.per.TV, data = tableb16)\n",
    "cat(\"LifeExpFemale:\\n\")\n",
    "LifeExpFemale"
   ]
  },
  {
   "cell_type": "code",
   "execution_count": 33,
   "metadata": {},
   "outputs": [
    {
     "data": {
      "text/plain": [
       "\n",
       "Call:\n",
       "lm(formula = LifeExp ~ People.per.Dr + People.per.TV, data = tableb16)\n",
       "\n",
       "Residuals:\n",
       "     Min       1Q   Median       3Q      Max \n",
       "-11.6206  -4.5997   0.4205   5.1126   9.0767 \n",
       "\n",
       "Coefficients:\n",
       "                Estimate Std. Error t value Pr(>|t|)    \n",
       "(Intercept)   70.2362645  1.0925483  64.287   <2e-16 ***\n",
       "People.per.Dr -0.0004470  0.0002016  -2.217   0.0332 *  \n",
       "People.per.TV -0.0226074  0.0096005  -2.355   0.0243 *  \n",
       "---\n",
       "Signif. codes:  0 ‘***’ 0.001 ‘**’ 0.01 ‘*’ 0.05 ‘.’ 0.1 ‘ ’ 1\n",
       "\n",
       "Residual standard error: 6.032 on 35 degrees of freedom\n",
       "Multiple R-squared:  0.4347,\tAdjusted R-squared:  0.4024 \n",
       "F-statistic: 13.46 on 2 and 35 DF,  p-value: 4.623e-05\n"
      ]
     },
     "metadata": {},
     "output_type": "display_data"
    }
   ],
   "source": [
    "#b. Test each model for signifi cance of regression. What conclusions can you draw? \n",
    "#LifeExp\n",
    "summary(LifeExp)"
   ]
  },
  {
   "cell_type": "code",
   "execution_count": 34,
   "metadata": {},
   "outputs": [
    {
     "data": {
      "text/plain": [
       "\n",
       "Call:\n",
       "lm(formula = LifeExpMale ~ People.per.Dr + People.per.TV, data = tableb16)\n",
       "\n",
       "Residuals:\n",
       "    Min      1Q  Median      3Q     Max \n",
       "-13.086  -5.042   1.151   5.421  10.370 \n",
       "\n",
       "Coefficients:\n",
       "                Estimate Std. Error t value Pr(>|t|)    \n",
       "(Intercept)   73.0919445  1.2505753  58.447   <2e-16 ***\n",
       "People.per.Dr -0.0004785  0.0002308  -2.074   0.0455 *  \n",
       "People.per.TV -0.0256825  0.0109891  -2.337   0.0253 *  \n",
       "---\n",
       "Signif. codes:  0 ‘***’ 0.001 ‘**’ 0.01 ‘*’ 0.05 ‘.’ 0.1 ‘ ’ 1\n",
       "\n",
       "Residual standard error: 6.904 on 35 degrees of freedom\n",
       "Multiple R-squared:  0.4173,\tAdjusted R-squared:  0.384 \n",
       "F-statistic: 12.53 on 2 and 35 DF,  p-value: 7.863e-05\n"
      ]
     },
     "metadata": {},
     "output_type": "display_data"
    }
   ],
   "source": [
    "#LifeExpMale\n",
    "summary(LifeExpMale)"
   ]
  },
  {
   "cell_type": "code",
   "execution_count": 35,
   "metadata": {},
   "outputs": [
    {
     "data": {
      "text/plain": [
       "\n",
       "Call:\n",
       "lm(formula = LifeExpFemale ~ People.per.Dr + People.per.TV, data = tableb16)\n",
       "\n",
       "Residuals:\n",
       "     Min       1Q   Median       3Q      Max \n",
       "-10.2977  -4.3430   0.4434   4.5500   8.8548 \n",
       "\n",
       "Coefficients:\n",
       "                Estimate Std. Error t value Pr(>|t|)    \n",
       "(Intercept)   67.4297595  0.9569733  70.461   <2e-16 ***\n",
       "People.per.Dr -0.0004086  0.0001766  -2.314   0.0267 *  \n",
       "People.per.TV -0.0198637  0.0084091  -2.362   0.0239 *  \n",
       "---\n",
       "Signif. codes:  0 ‘***’ 0.001 ‘**’ 0.01 ‘*’ 0.05 ‘.’ 0.1 ‘ ’ 1\n",
       "\n",
       "Residual standard error: 5.283 on 35 degrees of freedom\n",
       "Multiple R-squared:  0.4457,\tAdjusted R-squared:  0.414 \n",
       "F-statistic: 14.07 on 2 and 35 DF,  p-value: 3.279e-05\n"
      ]
     },
     "metadata": {},
     "output_type": "display_data"
    }
   ],
   "source": [
    "#LifeExpFemale\n",
    "summary(LifeExpFemale)"
   ]
  },
  {
   "cell_type": "code",
   "execution_count": 41,
   "metadata": {},
   "outputs": [
    {
     "name": "stdout",
     "output_type": "stream",
     "text": [
      "LifeExp"
     ]
    },
    {
     "data": {
      "text/html": [
       "<table>\n",
       "<thead><tr><th></th><th scope=col>Estimate</th><th scope=col>Std. Error</th><th scope=col>t value</th><th scope=col>Pr(&gt;|t|)</th></tr></thead>\n",
       "<tbody>\n",
       "\t<tr><th scope=row>People.per.Dr</th><td>-0.0004470481</td><td>0.0002016008 </td><td>-2.217491    </td><td>0.03317745   </td></tr>\n",
       "\t<tr><th scope=row>People.per.TV</th><td>-0.0226073860</td><td>0.0096004611 </td><td>-2.354823    </td><td>0.02426882   </td></tr>\n",
       "</tbody>\n",
       "</table>\n"
      ],
      "text/latex": [
       "\\begin{tabular}{r|llll}\n",
       "  & Estimate & Std. Error & t value & Pr(>\\textbar{}t\\textbar{})\\\\\n",
       "\\hline\n",
       "\tPeople.per.Dr & -0.0004470481 & 0.0002016008  & -2.217491     & 0.03317745   \\\\\n",
       "\tPeople.per.TV & -0.0226073860 & 0.0096004611  & -2.354823     & 0.02426882   \\\\\n",
       "\\end{tabular}\n"
      ],
      "text/markdown": [
       "\n",
       "| <!--/--> | Estimate | Std. Error | t value | Pr(>|t|) | \n",
       "|---|---|\n",
       "| People.per.Dr | -0.0004470481 | 0.0002016008  | -2.217491     | 0.03317745    | \n",
       "| People.per.TV | -0.0226073860 | 0.0096004611  | -2.354823     | 0.02426882    | \n",
       "\n",
       "\n"
      ],
      "text/plain": [
       "              Estimate      Std. Error   t value   Pr(>|t|)  \n",
       "People.per.Dr -0.0004470481 0.0002016008 -2.217491 0.03317745\n",
       "People.per.TV -0.0226073860 0.0096004611 -2.354823 0.02426882"
      ]
     },
     "metadata": {},
     "output_type": "display_data"
    }
   ],
   "source": [
    "#c. Use t tests to assess the contribution of each regressor to each model. Discuss your findings.\n",
    "cat(\"LifeExp\")\n",
    "summary(LifeExp)$coefficients[2:3,]"
   ]
  },
  {
   "cell_type": "code",
   "execution_count": 42,
   "metadata": {},
   "outputs": [
    {
     "name": "stdout",
     "output_type": "stream",
     "text": [
      "LifeExpMale"
     ]
    },
    {
     "data": {
      "text/html": [
       "<table>\n",
       "<thead><tr><th></th><th scope=col>Estimate</th><th scope=col>Std. Error</th><th scope=col>t value</th><th scope=col>Pr(&gt;|t|)</th></tr></thead>\n",
       "<tbody>\n",
       "\t<tr><th scope=row>People.per.Dr</th><td>-0.000478549</td><td>0.0002307605</td><td>-2.073791   </td><td>0.04552052  </td></tr>\n",
       "\t<tr><th scope=row>People.per.TV</th><td>-0.025682526</td><td>0.0109890784</td><td>-2.337096   </td><td>0.02528241  </td></tr>\n",
       "</tbody>\n",
       "</table>\n"
      ],
      "text/latex": [
       "\\begin{tabular}{r|llll}\n",
       "  & Estimate & Std. Error & t value & Pr(>\\textbar{}t\\textbar{})\\\\\n",
       "\\hline\n",
       "\tPeople.per.Dr & -0.000478549 & 0.0002307605 & -2.073791    & 0.04552052  \\\\\n",
       "\tPeople.per.TV & -0.025682526 & 0.0109890784 & -2.337096    & 0.02528241  \\\\\n",
       "\\end{tabular}\n"
      ],
      "text/markdown": [
       "\n",
       "| <!--/--> | Estimate | Std. Error | t value | Pr(>|t|) | \n",
       "|---|---|\n",
       "| People.per.Dr | -0.000478549 | 0.0002307605 | -2.073791    | 0.04552052   | \n",
       "| People.per.TV | -0.025682526 | 0.0109890784 | -2.337096    | 0.02528241   | \n",
       "\n",
       "\n"
      ],
      "text/plain": [
       "              Estimate     Std. Error   t value   Pr(>|t|)  \n",
       "People.per.Dr -0.000478549 0.0002307605 -2.073791 0.04552052\n",
       "People.per.TV -0.025682526 0.0109890784 -2.337096 0.02528241"
      ]
     },
     "metadata": {},
     "output_type": "display_data"
    }
   ],
   "source": [
    "cat(\"LifeExpMale\")\n",
    "summary(LifeExpMale)$coefficients[2:3,]"
   ]
  },
  {
   "cell_type": "code",
   "execution_count": 43,
   "metadata": {},
   "outputs": [
    {
     "name": "stdout",
     "output_type": "stream",
     "text": [
      "LifeExpFemale"
     ]
    },
    {
     "data": {
      "text/html": [
       "<table>\n",
       "<thead><tr><th></th><th scope=col>Estimate</th><th scope=col>Std. Error</th><th scope=col>t value</th><th scope=col>Pr(&gt;|t|)</th></tr></thead>\n",
       "<tbody>\n",
       "\t<tr><th scope=row>People.per.Dr</th><td>-0.0004085645</td><td>0.0001765841 </td><td>-2.313711    </td><td>0.02667785   </td></tr>\n",
       "\t<tr><th scope=row>People.per.TV</th><td>-0.0198636877</td><td>0.0084091340 </td><td>-2.362156    </td><td>0.02386039   </td></tr>\n",
       "</tbody>\n",
       "</table>\n"
      ],
      "text/latex": [
       "\\begin{tabular}{r|llll}\n",
       "  & Estimate & Std. Error & t value & Pr(>\\textbar{}t\\textbar{})\\\\\n",
       "\\hline\n",
       "\tPeople.per.Dr & -0.0004085645 & 0.0001765841  & -2.313711     & 0.02667785   \\\\\n",
       "\tPeople.per.TV & -0.0198636877 & 0.0084091340  & -2.362156     & 0.02386039   \\\\\n",
       "\\end{tabular}\n"
      ],
      "text/markdown": [
       "\n",
       "| <!--/--> | Estimate | Std. Error | t value | Pr(>|t|) | \n",
       "|---|---|\n",
       "| People.per.Dr | -0.0004085645 | 0.0001765841  | -2.313711     | 0.02667785    | \n",
       "| People.per.TV | -0.0198636877 | 0.0084091340  | -2.362156     | 0.02386039    | \n",
       "\n",
       "\n"
      ],
      "text/plain": [
       "              Estimate      Std. Error   t value   Pr(>|t|)  \n",
       "People.per.Dr -0.0004085645 0.0001765841 -2.313711 0.02667785\n",
       "People.per.TV -0.0198636877 0.0084091340 -2.362156 0.02386039"
      ]
     },
     "metadata": {},
     "output_type": "display_data"
    }
   ],
   "source": [
    "cat(\"LifeExpFemale\")\n",
    "summary(LifeExpFemale)$coefficients[2:3,]"
   ]
  },
  {
   "cell_type": "code",
   "execution_count": 48,
   "metadata": {},
   "outputs": [
    {
     "name": "stdout",
     "output_type": "stream",
     "text": [
      "LifeExp\n",
      "R-squared:  0.4346959\n",
      "R-Adjusted:  0.4023928\n",
      "\n",
      "LifeExpMale\n",
      "R-squared:  0.4172765\n",
      "R-Adjusted:  0.383978\n",
      "\n",
      "LifeExpFemale\n",
      "R-squared:  0.4456856\n",
      "R-Adjusted:  0.4140105"
     ]
    }
   ],
   "source": [
    "#d. Calculate R2 and RAdj2 for each model.\n",
    "cat(\"LifeExp\")\n",
    "cat(\"\\nR-squared: \",(summary(LifeExp))$r.squared)\n",
    "cat(\"\\nR-Adjusted: \",(summary(LifeExp))$adj.r.squared)\n",
    "\n",
    "cat(\"\\n\\nLifeExpMale\")\n",
    "cat(\"\\nR-squared: \",(summary(LifeExpMale))$r.squared)\n",
    "cat(\"\\nR-Adjusted: \",(summary(LifeExpMale))$adj.r.squared)\n",
    "\n",
    "cat(\"\\n\\nLifeExpFemale\")\n",
    "cat(\"\\nR-squared: \",(summary(LifeExpFemale))$r.squared)\n",
    "cat(\"\\nR-Adjusted: \",(summary(LifeExpFemale))$adj.r.squared)"
   ]
  },
  {
   "cell_type": "code",
   "execution_count": 99,
   "metadata": {},
   "outputs": [
    {
     "name": "stdout",
     "output_type": "stream",
     "text": [
      "LifeExp: -0.0008563196 -3.777668e-05\n",
      "LifeExpMale: -0.0009470177 -1.008023e-05\n",
      "LifeExpFemale: -0.0007670492 -5.007977e-05"
     ]
    }
   ],
   "source": [
    "#e. Find a 95% CI for the regression coefficient for People - per - Dr in each model. \n",
    "cat(\"LifeExp:\", confint(LifeExp)[2,])\n",
    "cat(\"\\nLifeExpMale:\", confint(LifeExpMale)[2,])\n",
    "cat(\"\\nLifeExpFemale:\", confint(LifeExpFemale)[2,])"
   ]
  },
  {
   "cell_type": "markdown",
   "metadata": {},
   "source": [
    "__3.18 <br> Consider the fuel consumption data in Table B.18. For the purposes of this\n",
    "exercise, ignore regressor x1 . Perform a thorough analysis of these data. What\n",
    "conclusions do you draw from this analysis? __"
   ]
  },
  {
   "cell_type": "code",
   "execution_count": 101,
   "metadata": {},
   "outputs": [
    {
     "data": {
      "text/html": [
       "<ol class=list-inline>\n",
       "\t<li>'y'</li>\n",
       "\t<li>'x_1'</li>\n",
       "\t<li>'x_2'</li>\n",
       "\t<li>'x_3'</li>\n",
       "\t<li>'x_4'</li>\n",
       "\t<li>'x_5'</li>\n",
       "\t<li>'x_6'</li>\n",
       "\t<li>'x_7'</li>\n",
       "\t<li>'x_8'</li>\n",
       "</ol>\n"
      ],
      "text/latex": [
       "\\begin{enumerate*}\n",
       "\\item 'y'\n",
       "\\item 'x\\_1'\n",
       "\\item 'x\\_2'\n",
       "\\item 'x\\_3'\n",
       "\\item 'x\\_4'\n",
       "\\item 'x\\_5'\n",
       "\\item 'x\\_6'\n",
       "\\item 'x\\_7'\n",
       "\\item 'x\\_8'\n",
       "\\end{enumerate*}\n"
      ],
      "text/markdown": [
       "1. 'y'\n",
       "2. 'x_1'\n",
       "3. 'x_2'\n",
       "4. 'x_3'\n",
       "5. 'x_4'\n",
       "6. 'x_5'\n",
       "7. 'x_6'\n",
       "8. 'x_7'\n",
       "9. 'x_8'\n",
       "\n",
       "\n"
      ],
      "text/plain": [
       "[1] \"y\"   \"x_1\" \"x_2\" \"x_3\" \"x_4\" \"x_5\" \"x_6\" \"x_7\" \"x_8\""
      ]
     },
     "metadata": {},
     "output_type": "display_data"
    }
   ],
   "source": [
    "tableb18 = read.table(\"tableb18.csv\", sep = \",\", header = TRUE)\n",
    "names(tableb18)"
   ]
  },
  {
   "cell_type": "code",
   "execution_count": 104,
   "metadata": {},
   "outputs": [
    {
     "data": {
      "text/plain": [
       "\n",
       "Call:\n",
       "lm(formula = y ~ x_2 + x_3 + x_4 + x_5 + x_6 + x_7 + x_8, data = tableb18)\n",
       "\n",
       "Coefficients:\n",
       "(Intercept)          x_2          x_3          x_4          x_5          x_6  \n",
       "  -315.0201       0.1587       1.0272      -8.6450      -0.4320      -0.1368  \n",
       "        x_7          x_8  \n",
       "    -0.3184      -0.5242  \n"
      ]
     },
     "metadata": {},
     "output_type": "display_data"
    }
   ],
   "source": [
    "MLR18 = lm(y ~ x_2 + x_3 + x_4 + x_5 + x_6 + x_7 + x_8, data = tableb18)\n",
    "MLR18"
   ]
  },
  {
   "cell_type": "code",
   "execution_count": 121,
   "metadata": {},
   "outputs": [
    {
     "data": {
      "text/plain": [
       "\n",
       "Call:\n",
       "lm(formula = y ~ x_2 + x_3 + x_4 + x_5 + x_6 + x_7 + x_8, data = tableb18)\n",
       "\n",
       "Residuals:\n",
       "    Min      1Q  Median      3Q     Max \n",
       "-10.000  -6.125   0.000   6.125  10.000 \n",
       "\n",
       "Coefficients:\n",
       "             Estimate Std. Error t value Pr(>|t|)\n",
       "(Intercept) -315.0201  1672.7066  -0.188    0.855\n",
       "x_2            0.1587     0.9492   0.167    0.871\n",
       "x_3            1.0272     2.8609   0.359    0.729\n",
       "x_4           -8.6450    44.6445  -0.194    0.851\n",
       "x_5           -0.4320     0.9118  -0.474    0.648\n",
       "x_6           -0.1368     1.1689  -0.117    0.910\n",
       "x_7           -0.3184     3.2316  -0.099    0.924\n",
       "x_8           -0.5242     2.2130  -0.237    0.819\n",
       "\n",
       "Residual standard error: 9.526 on 8 degrees of freedom\n",
       "Multiple R-squared:  0.4507,\tAdjusted R-squared:  -0.02988 \n",
       "F-statistic: 0.9378 on 7 and 8 DF,  p-value: 0.5272\n"
      ]
     },
     "metadata": {},
     "output_type": "display_data"
    }
   ],
   "source": [
    "summary(MLR18)\n"
   ]
  },
  {
   "cell_type": "markdown",
   "metadata": {},
   "source": [
    "__The multiple linear regression model for the fuel consumption data is insignificant__"
   ]
  },
  {
   "cell_type": "markdown",
   "metadata": {},
   "source": [
    "__3.21 A chemical engineer is investigating how the amount of conversion of a\n",
    "product from a raw material ( y ) depends on reaction temperature ( x1 ) and\n",
    "reaction time ( x2 ). He has developed the following regression models: __"
   ]
  },
  {
   "cell_type": "markdown",
   "metadata": {},
   "source": [
    "1. yˆ = 100 + 0.2x1 + 4x2<br>\n",
    "2. yˆ = 95 + 0.15x1 + 3x2 + x1x2 <br> <br> \n",
    "\n",
    "Both ]models have been built over the range 20 ≤ x1 ≤ 50 (° C) and 0.5 ≤ x2 ≤ 10 (hours). <br><br> \n",
    "__a.__  Using both models, what is the predicted value of conversion when x2 = 2\n",
    "in terms of x1 ? Repeat this calculation for x2 = 8. Draw a graph of the\n",
    "predicted values as a function of temperature for both conversion models.\n",
    "Comment on the effect of the interaction term in model 2."
   ]
  },
  {
   "cell_type": "markdown",
   "metadata": {},
   "source": [
    "If x2 = 2 Then\n",
    "1. y^ = 108 + 0.2x1\n",
    "2. y^ = 101 + 2.15x1\n",
    "\n",
    "If x2 = 8 Then\n",
    "1. y^ = 132 + 0.2x1\n",
    "2. y^ = 119 + 8.15x1\n"
   ]
  },
  {
   "cell_type": "code",
   "execution_count": 160,
   "metadata": {},
   "outputs": [
    {
     "data": {
      "image/png": "[encoded data removed]",
      "text/plain": [
       "plot without title"
      ]
     },
     "metadata": {},
     "output_type": "display_data"
    }
   ],
   "source": [
    "x = seq(20, 50, 1)\n",
    "y1a = 108 + 0.2 * x\n",
    "y1b = 101 + 2.15* x\n",
    "y1c = 132 + 0.2 * x\n",
    "y1d = 119 + 8.15* x\n",
    "table = data.frame(y1a,y1b,y1c,y1d)\n",
    "matplot(table, type = c(\"l\"), col = 1:4, lty = 1, lwd = 2, xlab = \"x\", ylab = \"y\")\n",
    "legend(\"topleft\", legend = c(\"y1a\", \"y1b\", \"y1c\", \"y1d\"), col = 1:4, lty = 1, lwd = 2)"
   ]
  },
  {
   "cell_type": "markdown",
   "metadata": {},
   "source": [
    "__b.__ Find the expected change in the mean conversion for a unit change in\n",
    "temperature x1 for model 1 when x2 = 5. Does this quantity depend on the\n",
    "specific value of reaction time selected? Why?"
   ]
  },
  {
   "cell_type": "markdown",
   "metadata": {},
   "source": [
    "It is the slope which is .2 regardless of the value of x2"
   ]
  },
  {
   "cell_type": "code",
   "execution_count": null,
   "metadata": {},
   "outputs": [],
   "source": []
  }
 ],
 "metadata": {
  "kernelspec": {
   "display_name": "R",
   "language": "R",
   "name": "ir"
  },
  "language_info": {
   "codemirror_mode": "r",
   "file_extension": ".r",
   "mimetype": "text/x-r-source",
   "name": "R",
   "pygments_lexer": "r",
   "version": "3.4.3"
  }
 },
 "nbformat": 4,
 "nbformat_minor": 2
}
