{
 "cells": [
  {
   "cell_type": "markdown",
   "metadata": {},
   "source": [
    "__1.__ Table B.1 gives data concerning the performance of the 26 National Football\n",
    "League teams in 1976. It is suspected that the number of yards gained rushing\n",
    "by opponents (x8) has an effect on the number of games won by a team (y). <br>\n",
    "__a.__ Fit a simple linear regression model relating games won y to yards gained\n",
    "rushing by opponents x8.<br>\n",
    "__b.__ Construct the analysis - of - variance table and test for significance of regression.<br>\n",
    "__c.__ Find a 95% CI on the slope.<br>\n",
    "__d.__ What percent of the total variability in y is explained by this model?<br>\n",
    "__e.__ Find a 95% CI on the mean number of games won if opponents ’ yards\n",
    "rushing is limited to 2000 yards.<br>"
   ]
  },
  {
   "cell_type": "code",
   "execution_count": 7,
   "metadata": {
    "scrolled": true
   },
   "outputs": [
    {
     "data": {
      "text/html": [
       "<table>\n",
       "<thead><tr><th scope=col>y</th><th scope=col>x1</th><th scope=col>x2</th><th scope=col>x3</th><th scope=col>x4</th><th scope=col>x5</th><th scope=col>x6</th><th scope=col>x7</th><th scope=col>x8</th><th scope=col>x9</th></tr></thead>\n",
       "<tbody>\n",
       "\t<tr><td>10  </td><td>2113</td><td>1985</td><td>38.9</td><td>64.7</td><td> 4  </td><td>868 </td><td>59.7</td><td>2205</td><td>1917</td></tr>\n",
       "\t<tr><td>11  </td><td>2003</td><td>2855</td><td>38.8</td><td>61.3</td><td> 3  </td><td>615 </td><td>55.0</td><td>2096</td><td>1575</td></tr>\n",
       "\t<tr><td>11  </td><td>2957</td><td>1737</td><td>40.1</td><td>60.0</td><td>14  </td><td>914 </td><td>65.6</td><td>1847</td><td>2175</td></tr>\n",
       "\t<tr><td>13  </td><td>2285</td><td>2905</td><td>41.6</td><td>45.3</td><td>-4  </td><td>957 </td><td>61.4</td><td>1903</td><td>2476</td></tr>\n",
       "\t<tr><td>10  </td><td>2971</td><td>1666</td><td>39.2</td><td>53.8</td><td>15  </td><td>836 </td><td>66.1</td><td>1457</td><td>1866</td></tr>\n",
       "\t<tr><td>11  </td><td>2309</td><td>2927</td><td>39.7</td><td>74.1</td><td> 8  </td><td>786 </td><td>61.0</td><td>1848</td><td>2339</td></tr>\n",
       "</tbody>\n",
       "</table>\n"
      ],
      "text/latex": [
       "\\begin{tabular}{r|llllllllll}\n",
       " y & x1 & x2 & x3 & x4 & x5 & x6 & x7 & x8 & x9\\\\\n",
       "\\hline\n",
       "\t 10   & 2113 & 1985 & 38.9 & 64.7 &  4   & 868  & 59.7 & 2205 & 1917\\\\\n",
       "\t 11   & 2003 & 2855 & 38.8 & 61.3 &  3   & 615  & 55.0 & 2096 & 1575\\\\\n",
       "\t 11   & 2957 & 1737 & 40.1 & 60.0 & 14   & 914  & 65.6 & 1847 & 2175\\\\\n",
       "\t 13   & 2285 & 2905 & 41.6 & 45.3 & -4   & 957  & 61.4 & 1903 & 2476\\\\\n",
       "\t 10   & 2971 & 1666 & 39.2 & 53.8 & 15   & 836  & 66.1 & 1457 & 1866\\\\\n",
       "\t 11   & 2309 & 2927 & 39.7 & 74.1 &  8   & 786  & 61.0 & 1848 & 2339\\\\\n",
       "\\end{tabular}\n"
      ],
      "text/markdown": [
       "\n",
       "y | x1 | x2 | x3 | x4 | x5 | x6 | x7 | x8 | x9 | \n",
       "|---|---|---|---|---|---|\n",
       "| 10   | 2113 | 1985 | 38.9 | 64.7 |  4   | 868  | 59.7 | 2205 | 1917 | \n",
       "| 11   | 2003 | 2855 | 38.8 | 61.3 |  3   | 615  | 55.0 | 2096 | 1575 | \n",
       "| 11   | 2957 | 1737 | 40.1 | 60.0 | 14   | 914  | 65.6 | 1847 | 2175 | \n",
       "| 13   | 2285 | 2905 | 41.6 | 45.3 | -4   | 957  | 61.4 | 1903 | 2476 | \n",
       "| 10   | 2971 | 1666 | 39.2 | 53.8 | 15   | 836  | 66.1 | 1457 | 1866 | \n",
       "| 11   | 2309 | 2927 | 39.7 | 74.1 |  8   | 786  | 61.0 | 1848 | 2339 | \n",
       "\n",
       "\n"
      ],
      "text/plain": [
       "  y  x1   x2   x3   x4   x5 x6  x7   x8   x9  \n",
       "1 10 2113 1985 38.9 64.7  4 868 59.7 2205 1917\n",
       "2 11 2003 2855 38.8 61.3  3 615 55.0 2096 1575\n",
       "3 11 2957 1737 40.1 60.0 14 914 65.6 1847 2175\n",
       "4 13 2285 2905 41.6 45.3 -4 957 61.4 1903 2476\n",
       "5 10 2971 1666 39.2 53.8 15 836 66.1 1457 1866\n",
       "6 11 2309 2927 39.7 74.1  8 786 61.0 1848 2339"
      ]
     },
     "metadata": {},
     "output_type": "display_data"
    },
    {
     "data": {
      "text/plain": [
       "\n",
       "Call:\n",
       "lm(formula = y ~ x8, data = table.b1)\n",
       "\n",
       "Coefficients:\n",
       "(Intercept)           x8  \n",
       "  21.788251    -0.007025  \n"
      ]
     },
     "metadata": {},
     "output_type": "display_data"
    }
   ],
   "source": [
    "library(MPV)\n",
    "head(table.b1)\n",
    "L1 = lm(y ~ x8, data = table.b1)\n",
    "L1\n"
   ]
  },
  {
   "cell_type": "code",
   "execution_count": 18,
   "metadata": {},
   "outputs": [
    {
     "data": {
      "text/plain": [
       "            Df Sum Sq Mean Sq F value   Pr(>F)    \n",
       "x8           1  178.1  178.09    31.1 7.38e-06 ***\n",
       "Residuals   26  148.9    5.73                     \n",
       "---\n",
       "Signif. codes:  0 '***' 0.001 '**' 0.01 '*' 0.05 '.' 0.1 ' ' 1"
      ]
     },
     "metadata": {},
     "output_type": "display_data"
    }
   ],
   "source": [
    "#b\n",
    "summary(aov(y ~ x8, data = table.b1))"
   ]
  },
  {
   "cell_type": "code",
   "execution_count": 16,
   "metadata": {},
   "outputs": [
    {
     "data": {
      "text/plain": [
       "\n",
       "Call:\n",
       "lm(formula = y ~ x8, data = table.b1)\n",
       "\n",
       "Residuals:\n",
       "   Min     1Q Median     3Q    Max \n",
       "-3.804 -1.591 -0.647  2.032  4.580 \n",
       "\n",
       "Coefficients:\n",
       "             Estimate Std. Error t value Pr(>|t|)    \n",
       "(Intercept) 21.788251   2.696233   8.081 1.46e-08 ***\n",
       "x8          -0.007025   0.001260  -5.577 7.38e-06 ***\n",
       "---\n",
       "Signif. codes:  0 '***' 0.001 '**' 0.01 '*' 0.05 '.' 0.1 ' ' 1\n",
       "\n",
       "Residual standard error: 2.393 on 26 degrees of freedom\n",
       "Multiple R-squared:  0.5447,\tAdjusted R-squared:  0.5272 \n",
       "F-statistic:  31.1 on 1 and 26 DF,  p-value: 7.381e-06\n"
      ]
     },
     "metadata": {},
     "output_type": "display_data"
    }
   ],
   "source": [
    "#c\n",
    "summary(L1)"
   ]
  },
  {
   "cell_type": "code",
   "execution_count": 20,
   "metadata": {},
   "outputs": [
    {
     "data": {
      "text/html": [
       "<table>\n",
       "<thead><tr><th></th><th scope=col>2.5 %</th><th scope=col>97.5 %</th></tr></thead>\n",
       "<tbody>\n",
       "\t<tr><th scope=row>(Intercept)</th><td>16.246064040</td><td>27.330437725</td></tr>\n",
       "\t<tr><th scope=row>x8</th><td>-0.009614347</td><td>-0.004435854</td></tr>\n",
       "</tbody>\n",
       "</table>\n"
      ],
      "text/latex": [
       "\\begin{tabular}{r|ll}\n",
       "  & 2.5 \\% & 97.5 \\%\\\\\n",
       "\\hline\n",
       "\t(Intercept) & 16.246064040 & 27.330437725\\\\\n",
       "\tx8 & -0.009614347 & -0.004435854\\\\\n",
       "\\end{tabular}\n"
      ],
      "text/markdown": [
       "\n",
       "| <!--/--> | 2.5 % | 97.5 % | \n",
       "|---|---|\n",
       "| (Intercept) | 16.246064040 | 27.330437725 | \n",
       "| x8 | -0.009614347 | -0.004435854 | \n",
       "\n",
       "\n"
      ],
      "text/plain": [
       "            2.5 %        97.5 %      \n",
       "(Intercept) 16.246064040 27.330437725\n",
       "x8          -0.009614347 -0.004435854"
      ]
     },
     "metadata": {},
     "output_type": "display_data"
    }
   ],
   "source": [
    "confint(L1, level=0.95)"
   ]
  },
  {
   "cell_type": "markdown",
   "metadata": {},
   "source": [
    "d. percent of the total variability in y is explained by this model: 54.47 %"
   ]
  },
  {
   "cell_type": "code",
   "execution_count": 32,
   "metadata": {},
   "outputs": [
    {
     "data": {
      "text/html": [
       "<strong>(Intercept):</strong> 7.73805033040013"
      ],
      "text/latex": [
       "\\textbf{(Intercept):} 7.73805033040013"
      ],
      "text/markdown": [
       "**(Intercept):** 7.73805033040013"
      ],
      "text/plain": [
       "(Intercept) \n",
       "    7.73805 "
      ]
     },
     "metadata": {},
     "output_type": "display_data"
    },
    {
     "data": {
      "text/html": [
       "<table>\n",
       "<thead><tr><th></th><th scope=col>fit</th><th scope=col>lwr</th><th scope=col>upr</th></tr></thead>\n",
       "<tbody>\n",
       "\t<tr><th scope=row>1</th><td>7.73805 </td><td>6.765753</td><td>8.710348</td></tr>\n",
       "</tbody>\n",
       "</table>\n"
      ],
      "text/latex": [
       "\\begin{tabular}{r|lll}\n",
       "  & fit & lwr & upr\\\\\n",
       "\\hline\n",
       "\t1 & 7.73805  & 6.765753 & 8.710348\\\\\n",
       "\\end{tabular}\n"
      ],
      "text/markdown": [
       "\n",
       "| <!--/--> | fit | lwr | upr | \n",
       "|---|\n",
       "| 1 | 7.73805  | 6.765753 | 8.710348 | \n",
       "\n",
       "\n"
      ],
      "text/plain": [
       "  fit     lwr      upr     \n",
       "1 7.73805 6.765753 8.710348"
      ]
     },
     "metadata": {},
     "output_type": "display_data"
    }
   ],
   "source": [
    "#e\n",
    "x = 2000\n",
    "beta.hat0 = coef(L1)[1]\n",
    "beta.hat1 = coef(L1)[2]\n",
    "y = beta.hat0 + beta.hat1 * x\n",
    "y\n",
    "xvals = data.frame(x8 = x)\n",
    "predict(L1, newdata = xvals, interval = \"confidence\", level = 0.95)"
   ]
  },
  {
   "cell_type": "markdown",
   "metadata": {},
   "source": [
    "__2.2__ <br> Suppose we would like to use the model developed in Problem 2.1 to predict\n",
    "the number of games a team will win if it can limit opponents ’ yards rushing\n",
    "to 1800 yards. Find a point estimate of the number of games won when\n",
    "x8 = 1800. Find a 90% prediction interval on the number of games won."
   ]
  },
  {
   "cell_type": "code",
   "execution_count": 38,
   "metadata": {},
   "outputs": [
    {
     "data": {
      "text/html": [
       "<table>\n",
       "<thead><tr><th></th><th scope=col>fit</th><th scope=col>lwr</th><th scope=col>upr</th></tr></thead>\n",
       "<tbody>\n",
       "\t<tr><th scope=row>1</th><td>9.14307 </td><td>4.936392</td><td>13.34975</td></tr>\n",
       "</tbody>\n",
       "</table>\n"
      ],
      "text/latex": [
       "\\begin{tabular}{r|lll}\n",
       "  & fit & lwr & upr\\\\\n",
       "\\hline\n",
       "\t1 & 9.14307  & 4.936392 & 13.34975\\\\\n",
       "\\end{tabular}\n"
      ],
      "text/markdown": [
       "\n",
       "| <!--/--> | fit | lwr | upr | \n",
       "|---|\n",
       "| 1 | 9.14307  | 4.936392 | 13.34975 | \n",
       "\n",
       "\n"
      ],
      "text/plain": [
       "  fit     lwr      upr     \n",
       "1 9.14307 4.936392 13.34975"
      ]
     },
     "metadata": {},
     "output_type": "display_data"
    }
   ],
   "source": [
    "x = 1800\n",
    "xvals = data.frame(x8 = x)\n",
    "predict(L1, xvals, interval = \"prediction\", level = 0.9)\n"
   ]
  },
  {
   "cell_type": "markdown",
   "metadata": {},
   "source": [
    "__2.3__ Table B.2 presents data collected during a solar energy project at Georgia\n",
    "Tech. <br>\n",
    "__a.__ Fit a simple linear regression model relating total heat flux y (kilowatts)\n",
    "to the radial defl ection of the defl ected rays x4 (milliradians). <br>\n",
    "__b.__ Construct the analysis - of - variance table and test for significance of\n",
    "regression. <br>\n",
    "__c.__ Find a 99% CI on the slope. <br>\n",
    "__d.__ Calculate R2. <br>\n",
    "__e.__ Find a 95% CI on the mean heat fl ux when the radial defl ection is 16.5 milliradians <br>"
   ]
  },
  {
   "cell_type": "code",
   "execution_count": 41,
   "metadata": {},
   "outputs": [
    {
     "data": {
      "text/html": [
       "<table>\n",
       "<thead><tr><th scope=col>y</th><th scope=col>x1</th><th scope=col>x2</th><th scope=col>x3</th><th scope=col>x4</th><th scope=col>x5</th></tr></thead>\n",
       "<tbody>\n",
       "\t<tr><td>271.8 </td><td>783.35</td><td>33.53 </td><td>40.55 </td><td>16.66 </td><td>13.20 </td></tr>\n",
       "\t<tr><td>264.0 </td><td>748.45</td><td>36.50 </td><td>36.19 </td><td>16.46 </td><td>14.11 </td></tr>\n",
       "\t<tr><td>238.8 </td><td>684.45</td><td>34.66 </td><td>37.31 </td><td>17.66 </td><td>15.68 </td></tr>\n",
       "\t<tr><td>230.7 </td><td>827.80</td><td>33.13 </td><td>32.52 </td><td>17.50 </td><td>10.53 </td></tr>\n",
       "\t<tr><td>251.6 </td><td>860.45</td><td>35.75 </td><td>33.71 </td><td>16.40 </td><td>11.00 </td></tr>\n",
       "\t<tr><td>257.9 </td><td>875.15</td><td>34.46 </td><td>34.14 </td><td>16.28 </td><td>11.31 </td></tr>\n",
       "</tbody>\n",
       "</table>\n"
      ],
      "text/latex": [
       "\\begin{tabular}{r|llllll}\n",
       " y & x1 & x2 & x3 & x4 & x5\\\\\n",
       "\\hline\n",
       "\t 271.8  & 783.35 & 33.53  & 40.55  & 16.66  & 13.20 \\\\\n",
       "\t 264.0  & 748.45 & 36.50  & 36.19  & 16.46  & 14.11 \\\\\n",
       "\t 238.8  & 684.45 & 34.66  & 37.31  & 17.66  & 15.68 \\\\\n",
       "\t 230.7  & 827.80 & 33.13  & 32.52  & 17.50  & 10.53 \\\\\n",
       "\t 251.6  & 860.45 & 35.75  & 33.71  & 16.40  & 11.00 \\\\\n",
       "\t 257.9  & 875.15 & 34.46  & 34.14  & 16.28  & 11.31 \\\\\n",
       "\\end{tabular}\n"
      ],
      "text/markdown": [
       "\n",
       "y | x1 | x2 | x3 | x4 | x5 | \n",
       "|---|---|---|---|---|---|\n",
       "| 271.8  | 783.35 | 33.53  | 40.55  | 16.66  | 13.20  | \n",
       "| 264.0  | 748.45 | 36.50  | 36.19  | 16.46  | 14.11  | \n",
       "| 238.8  | 684.45 | 34.66  | 37.31  | 17.66  | 15.68  | \n",
       "| 230.7  | 827.80 | 33.13  | 32.52  | 17.50  | 10.53  | \n",
       "| 251.6  | 860.45 | 35.75  | 33.71  | 16.40  | 11.00  | \n",
       "| 257.9  | 875.15 | 34.46  | 34.14  | 16.28  | 11.31  | \n",
       "\n",
       "\n"
      ],
      "text/plain": [
       "  y     x1     x2    x3    x4    x5   \n",
       "1 271.8 783.35 33.53 40.55 16.66 13.20\n",
       "2 264.0 748.45 36.50 36.19 16.46 14.11\n",
       "3 238.8 684.45 34.66 37.31 17.66 15.68\n",
       "4 230.7 827.80 33.13 32.52 17.50 10.53\n",
       "5 251.6 860.45 35.75 33.71 16.40 11.00\n",
       "6 257.9 875.15 34.46 34.14 16.28 11.31"
      ]
     },
     "metadata": {},
     "output_type": "display_data"
    },
    {
     "data": {
      "text/plain": [
       "\n",
       "Call:\n",
       "lm(formula = y ~ x4, data = table.b2)\n",
       "\n",
       "Coefficients:\n",
       "(Intercept)           x4  \n",
       "      607.1        -21.4  \n"
      ]
     },
     "metadata": {},
     "output_type": "display_data"
    }
   ],
   "source": [
    "#a\n",
    "head(table.b2)\n",
    "L1 = lm(y ~ x4, data = table.b2)\n",
    "L1"
   ]
  },
  {
   "cell_type": "code",
   "execution_count": 42,
   "metadata": {},
   "outputs": [
    {
     "data": {
      "text/plain": [
       "            Df Sum Sq Mean Sq F value   Pr(>F)    \n",
       "x4           1  10579   10579   69.61 5.94e-09 ***\n",
       "Residuals   27   4103     152                     \n",
       "---\n",
       "Signif. codes:  0 '***' 0.001 '**' 0.01 '*' 0.05 '.' 0.1 ' ' 1"
      ]
     },
     "metadata": {},
     "output_type": "display_data"
    }
   ],
   "source": [
    "#b \n",
    "summary(aov(y ~ x4, data = table.b2))"
   ]
  },
  {
   "cell_type": "code",
   "execution_count": 43,
   "metadata": {},
   "outputs": [
    {
     "data": {
      "text/html": [
       "<table>\n",
       "<thead><tr><th></th><th scope=col>0.5 %</th><th scope=col>99.5 %</th></tr></thead>\n",
       "<tbody>\n",
       "\t<tr><th scope=row>(Intercept)</th><td>488.22411</td><td>725.98242</td></tr>\n",
       "\t<tr><th scope=row>x4</th><td>-28.50995</td><td>-14.29497</td></tr>\n",
       "</tbody>\n",
       "</table>\n"
      ],
      "text/latex": [
       "\\begin{tabular}{r|ll}\n",
       "  & 0.5 \\% & 99.5 \\%\\\\\n",
       "\\hline\n",
       "\t(Intercept) & 488.22411 & 725.98242\\\\\n",
       "\tx4 & -28.50995 & -14.29497\\\\\n",
       "\\end{tabular}\n"
      ],
      "text/markdown": [
       "\n",
       "| <!--/--> | 0.5 % | 99.5 % | \n",
       "|---|---|\n",
       "| (Intercept) | 488.22411 | 725.98242 | \n",
       "| x4 | -28.50995 | -14.29497 | \n",
       "\n",
       "\n"
      ],
      "text/plain": [
       "            0.5 %     99.5 %   \n",
       "(Intercept) 488.22411 725.98242\n",
       "x4          -28.50995 -14.29497"
      ]
     },
     "metadata": {},
     "output_type": "display_data"
    }
   ],
   "source": [
    "#c \n",
    "confint(L1, level=0.99)"
   ]
  },
  {
   "cell_type": "code",
   "execution_count": 51,
   "metadata": {},
   "outputs": [
    {
     "data": {
      "text/html": [
       "0.72052419640671"
      ],
      "text/latex": [
       "0.72052419640671"
      ],
      "text/markdown": [
       "0.72052419640671"
      ],
      "text/plain": [
       "[1] 0.7205242"
      ]
     },
     "metadata": {},
     "output_type": "display_data"
    }
   ],
   "source": [
    "#d\n",
    "summary(L1)$r.squared\n"
   ]
  },
  {
   "cell_type": "code",
   "execution_count": 53,
   "metadata": {},
   "outputs": [
    {
     "data": {
      "text/html": [
       "<table>\n",
       "<thead><tr><th></th><th scope=col>fit</th><th scope=col>lwr</th><th scope=col>upr</th></tr></thead>\n",
       "<tbody>\n",
       "\t<tr><th scope=row>1</th><td>253.9627</td><td>249.1468</td><td>258.7787</td></tr>\n",
       "</tbody>\n",
       "</table>\n"
      ],
      "text/latex": [
       "\\begin{tabular}{r|lll}\n",
       "  & fit & lwr & upr\\\\\n",
       "\\hline\n",
       "\t1 & 253.9627 & 249.1468 & 258.7787\\\\\n",
       "\\end{tabular}\n"
      ],
      "text/markdown": [
       "\n",
       "| <!--/--> | fit | lwr | upr | \n",
       "|---|\n",
       "| 1 | 253.9627 | 249.1468 | 258.7787 | \n",
       "\n",
       "\n"
      ],
      "text/plain": [
       "  fit      lwr      upr     \n",
       "1 253.9627 249.1468 258.7787"
      ]
     },
     "metadata": {},
     "output_type": "display_data"
    }
   ],
   "source": [
    "#e \n",
    "x = 16.5\n",
    "xvals = data.frame(x4 = x)\n",
    "predict(L1, xvals, interval = \"confidence\", level = 0.95) "
   ]
  },
  {
   "cell_type": "markdown",
   "metadata": {},
   "source": [
    "__2.3__ Table B.3 presents data on the gasoline mileage performance of 32 different\n",
    "automobiles. <br>\n",
    "a. Fit a simple linear regression model relating gasoline mileage y (miles per\n",
    "gallon) to engine displacement xl (cubic inches).<br>\n",
    "b. Construct the analysis - of - variance table and test for significance of regression.<br>\n",
    "c. What percent of the total variability in gasoline mileage is accounted for\n",
    "by the linear relationship with engine displacement?<br>\n",
    "d. Find a 95% CI on the mean gasoline mileage if the engine displacement\n",
    "is 275 in.3<br>\n",
    "e. Suppose that we wish to predict the gasoline mileage obtained from a car\n",
    "with a 275 - in.3 engine. Give a point estimate of mileage. Find a 95% prediction interval on the mileage.<br>\n",
    "f. Compare the two intervals obtained in parts d and e. Explain the difference\n",
    "between them. Which one is wider, and why?<br>"
   ]
  },
  {
   "cell_type": "code",
   "execution_count": 56,
   "metadata": {},
   "outputs": [
    {
     "data": {
      "text/html": [
       "<table>\n",
       "<thead><tr><th scope=col>y</th><th scope=col>x1</th><th scope=col>x2</th><th scope=col>x3</th><th scope=col>x4</th><th scope=col>x5</th><th scope=col>x6</th><th scope=col>x7</th><th scope=col>x8</th><th scope=col>x9</th><th scope=col>x10</th><th scope=col>x11</th></tr></thead>\n",
       "<tbody>\n",
       "\t<tr><td>18.90</td><td>350  </td><td>165  </td><td>260  </td><td>8.00 </td><td>2.56 </td><td>4    </td><td>3    </td><td>200.3</td><td>69.9 </td><td>3910 </td><td>1    </td></tr>\n",
       "\t<tr><td>17.00</td><td>350  </td><td>170  </td><td>275  </td><td>8.50 </td><td>2.56 </td><td>4    </td><td>3    </td><td>199.6</td><td>72.9 </td><td>3860 </td><td>1    </td></tr>\n",
       "\t<tr><td>20.00</td><td>250  </td><td>105  </td><td>185  </td><td>8.25 </td><td>2.73 </td><td>1    </td><td>3    </td><td>196.7</td><td>72.2 </td><td>3510 </td><td>1    </td></tr>\n",
       "\t<tr><td>18.25</td><td>351  </td><td>143  </td><td>255  </td><td>8.00 </td><td>3.00 </td><td>2    </td><td>3    </td><td>199.9</td><td>74.0 </td><td>3890 </td><td>1    </td></tr>\n",
       "\t<tr><td>20.07</td><td>225  </td><td> 95  </td><td>170  </td><td>8.40 </td><td>2.76 </td><td>1    </td><td>3    </td><td>194.1</td><td>71.8 </td><td>3365 </td><td>0    </td></tr>\n",
       "\t<tr><td>11.20</td><td>440  </td><td>215  </td><td>330  </td><td>8.20 </td><td>2.88 </td><td>4    </td><td>3    </td><td>184.5</td><td>69.0 </td><td>4215 </td><td>1    </td></tr>\n",
       "</tbody>\n",
       "</table>\n"
      ],
      "text/latex": [
       "\\begin{tabular}{r|llllllllllll}\n",
       " y & x1 & x2 & x3 & x4 & x5 & x6 & x7 & x8 & x9 & x10 & x11\\\\\n",
       "\\hline\n",
       "\t 18.90 & 350   & 165   & 260   & 8.00  & 2.56  & 4     & 3     & 200.3 & 69.9  & 3910  & 1    \\\\\n",
       "\t 17.00 & 350   & 170   & 275   & 8.50  & 2.56  & 4     & 3     & 199.6 & 72.9  & 3860  & 1    \\\\\n",
       "\t 20.00 & 250   & 105   & 185   & 8.25  & 2.73  & 1     & 3     & 196.7 & 72.2  & 3510  & 1    \\\\\n",
       "\t 18.25 & 351   & 143   & 255   & 8.00  & 3.00  & 2     & 3     & 199.9 & 74.0  & 3890  & 1    \\\\\n",
       "\t 20.07 & 225   &  95   & 170   & 8.40  & 2.76  & 1     & 3     & 194.1 & 71.8  & 3365  & 0    \\\\\n",
       "\t 11.20 & 440   & 215   & 330   & 8.20  & 2.88  & 4     & 3     & 184.5 & 69.0  & 4215  & 1    \\\\\n",
       "\\end{tabular}\n"
      ],
      "text/markdown": [
       "\n",
       "y | x1 | x2 | x3 | x4 | x5 | x6 | x7 | x8 | x9 | x10 | x11 | \n",
       "|---|---|---|---|---|---|\n",
       "| 18.90 | 350   | 165   | 260   | 8.00  | 2.56  | 4     | 3     | 200.3 | 69.9  | 3910  | 1     | \n",
       "| 17.00 | 350   | 170   | 275   | 8.50  | 2.56  | 4     | 3     | 199.6 | 72.9  | 3860  | 1     | \n",
       "| 20.00 | 250   | 105   | 185   | 8.25  | 2.73  | 1     | 3     | 196.7 | 72.2  | 3510  | 1     | \n",
       "| 18.25 | 351   | 143   | 255   | 8.00  | 3.00  | 2     | 3     | 199.9 | 74.0  | 3890  | 1     | \n",
       "| 20.07 | 225   |  95   | 170   | 8.40  | 2.76  | 1     | 3     | 194.1 | 71.8  | 3365  | 0     | \n",
       "| 11.20 | 440   | 215   | 330   | 8.20  | 2.88  | 4     | 3     | 184.5 | 69.0  | 4215  | 1     | \n",
       "\n",
       "\n"
      ],
      "text/plain": [
       "  y     x1  x2  x3  x4   x5   x6 x7 x8    x9   x10  x11\n",
       "1 18.90 350 165 260 8.00 2.56 4  3  200.3 69.9 3910 1  \n",
       "2 17.00 350 170 275 8.50 2.56 4  3  199.6 72.9 3860 1  \n",
       "3 20.00 250 105 185 8.25 2.73 1  3  196.7 72.2 3510 1  \n",
       "4 18.25 351 143 255 8.00 3.00 2  3  199.9 74.0 3890 1  \n",
       "5 20.07 225  95 170 8.40 2.76 1  3  194.1 71.8 3365 0  \n",
       "6 11.20 440 215 330 8.20 2.88 4  3  184.5 69.0 4215 1  "
      ]
     },
     "metadata": {},
     "output_type": "display_data"
    },
    {
     "data": {
      "text/plain": [
       "\n",
       "Call:\n",
       "lm(formula = y ~ x1, data = table.b3)\n",
       "\n",
       "Coefficients:\n",
       "(Intercept)           x1  \n",
       "   33.72268     -0.04736  \n"
      ]
     },
     "metadata": {},
     "output_type": "display_data"
    }
   ],
   "source": [
    "#a\n",
    "head(table.b3)\n",
    "L1 = lm(y ~ x1, data = table.b3)\n",
    "L1"
   ]
  },
  {
   "cell_type": "code",
   "execution_count": 63,
   "metadata": {},
   "outputs": [
    {
     "data": {
      "text/plain": [
       "            Df Sum Sq Mean Sq F value   Pr(>F)    \n",
       "x1           1  955.7   955.7   101.7 3.74e-11 ***\n",
       "Residuals   30  281.8     9.4                     \n",
       "---\n",
       "Signif. codes:  0 '***' 0.001 '**' 0.01 '*' 0.05 '.' 0.1 ' ' 1"
      ]
     },
     "metadata": {},
     "output_type": "display_data"
    }
   ],
   "source": [
    "#b\n",
    "summary(aov(y ~ x1, data = table.b3))"
   ]
  },
  {
   "cell_type": "code",
   "execution_count": 61,
   "metadata": {},
   "outputs": [
    {
     "name": "stdout",
     "output_type": "stream",
     "text": [
      "R^2 =  0.772"
     ]
    }
   ],
   "source": [
    "#c\n",
    "cat(\"R^2 = \", round(summary(L1)$r.squared, digit = 3))"
   ]
  },
  {
   "cell_type": "code",
   "execution_count": 71,
   "metadata": {},
   "outputs": [
    {
     "data": {
      "text/html": [
       "<table>\n",
       "<thead><tr><th></th><th scope=col>fit</th><th scope=col>lwr</th><th scope=col>upr</th></tr></thead>\n",
       "<tbody>\n",
       "\t<tr><th scope=row>1</th><td>20.69879</td><td>19.58807</td><td>21.80952</td></tr>\n",
       "</tbody>\n",
       "</table>\n"
      ],
      "text/latex": [
       "\\begin{tabular}{r|lll}\n",
       "  & fit & lwr & upr\\\\\n",
       "\\hline\n",
       "\t1 & 20.69879 & 19.58807 & 21.80952\\\\\n",
       "\\end{tabular}\n"
      ],
      "text/markdown": [
       "\n",
       "| <!--/--> | fit | lwr | upr | \n",
       "|---|\n",
       "| 1 | 20.69879 | 19.58807 | 21.80952 | \n",
       "\n",
       "\n"
      ],
      "text/plain": [
       "  fit      lwr      upr     \n",
       "1 20.69879 19.58807 21.80952"
      ]
     },
     "metadata": {},
     "output_type": "display_data"
    }
   ],
   "source": [
    "#d \n",
    "x = data.frame(x1 = 275)\n",
    "predict(L1, x, interval = \"confidence\", confidence = .95)"
   ]
  },
  {
   "cell_type": "code",
   "execution_count": 72,
   "metadata": {},
   "outputs": [
    {
     "data": {
      "text/html": [
       "<table>\n",
       "<thead><tr><th></th><th scope=col>fit</th><th scope=col>lwr</th><th scope=col>upr</th></tr></thead>\n",
       "<tbody>\n",
       "\t<tr><th scope=row>1</th><td>20.69879</td><td>14.34147</td><td>27.05611</td></tr>\n",
       "</tbody>\n",
       "</table>\n"
      ],
      "text/latex": [
       "\\begin{tabular}{r|lll}\n",
       "  & fit & lwr & upr\\\\\n",
       "\\hline\n",
       "\t1 & 20.69879 & 14.34147 & 27.05611\\\\\n",
       "\\end{tabular}\n"
      ],
      "text/markdown": [
       "\n",
       "| <!--/--> | fit | lwr | upr | \n",
       "|---|\n",
       "| 1 | 20.69879 | 14.34147 | 27.05611 | \n",
       "\n",
       "\n"
      ],
      "text/plain": [
       "  fit      lwr      upr     \n",
       "1 20.69879 14.34147 27.05611"
      ]
     },
     "metadata": {},
     "output_type": "display_data"
    }
   ],
   "source": [
    "#e\n",
    "predict(L1, x, interval = \"prediction\", confidence = .95)"
   ]
  },
  {
   "cell_type": "markdown",
   "metadata": {},
   "source": [
    "#f <br>\n",
    "Part d. is an interval estimator on the mean response at 275 in3 while part e. is an\n",
    "interval estimator on a future observation at 275 in3 . The prediction interval is wider\n",
    "than the confidence interval on the mean because it depends on the error from the\n",
    "fitted model and the future observation"
   ]
  },
  {
   "cell_type": "markdown",
   "metadata": {},
   "source": [
    "__2.5__ <br> Consider the gasoline mileage data in Table B.3 . Repeat Problem 2.4 (parts\n",
    "a, b, and c) using vehicle weight x10 as the regressor variable. Based on a\n",
    "comparison of the two models, can you conclude that x1 is a better choice of\n",
    "regressor than x10?"
   ]
  },
  {
   "cell_type": "code",
   "execution_count": 76,
   "metadata": {},
   "outputs": [
    {
     "data": {
      "text/plain": [
       "\n",
       "Call:\n",
       "lm(formula = y ~ x10, data = table.b3)\n",
       "\n",
       "Coefficients:\n",
       "(Intercept)          x10  \n",
       "  40.852431    -0.005752  \n"
      ]
     },
     "metadata": {},
     "output_type": "display_data"
    }
   ],
   "source": [
    "#a\n",
    "L1 = lm(y ~ x10, data = table.b3)\n",
    "L1\n"
   ]
  },
  {
   "cell_type": "code",
   "execution_count": 77,
   "metadata": {},
   "outputs": [
    {
     "data": {
      "text/plain": [
       "            Df Sum Sq Mean Sq F value   Pr(>F)    \n",
       "x10          1  921.5   921.5   87.48 2.12e-10 ***\n",
       "Residuals   30  316.0    10.5                     \n",
       "---\n",
       "Signif. codes:  0 '***' 0.001 '**' 0.01 '*' 0.05 '.' 0.1 ' ' 1"
      ]
     },
     "metadata": {},
     "output_type": "display_data"
    }
   ],
   "source": [
    "summary(aov(y ~ x10, data = table.b3))"
   ]
  },
  {
   "cell_type": "code",
   "execution_count": 78,
   "metadata": {},
   "outputs": [
    {
     "name": "stdout",
     "output_type": "stream",
     "text": [
      "R^2 =  0.745"
     ]
    }
   ],
   "source": [
    "cat(\"R^2 = \", round(summary(L1)$r.squared, digit = 3))"
   ]
  },
  {
   "cell_type": "markdown",
   "metadata": {},
   "source": [
    "The two variables seem to fit about the same. It does not appear that Xl is a better\n",
    "regressor than XlO."
   ]
  },
  {
   "cell_type": "markdown",
   "metadata": {},
   "source": [
    "__2.6__ Table B.4 presents data for 27 houses sold in Erie, Pennsylvania. <br>\n",
    "__a.__ Fit a simple linear regression model relating selling price of the house to\n",
    "the current taxes (x1).<br>\n",
    "__b.__ Test for significance of regression.<br>\n",
    "__c.__ What percent of the total variability in selling price is explained by this\n",
    "model?<br>\n",
    "__d.__ Find a 95% CI on β1.<br>\n",
    "__e.__ Find a 95% CI on the mean selling price of a house for which the current\n",
    "taxes are $750.<br>"
   ]
  },
  {
   "cell_type": "code",
   "execution_count": 95,
   "metadata": {},
   "outputs": [
    {
     "data": {
      "text/plain": [
       "\n",
       "Call:\n",
       "lm(formula = y ~ x1, data = table.b4)\n",
       "\n",
       "Coefficients:\n",
       "(Intercept)           x1  \n",
       "     13.320        3.324  \n"
      ]
     },
     "metadata": {},
     "output_type": "display_data"
    },
    {
     "data": {
      "image/png": "[encoded data removed]",
      "text/plain": [
       "plot without title"
      ]
     },
     "metadata": {},
     "output_type": "display_data"
    }
   ],
   "source": [
    "#a\n",
    "L1 = lm(y ~ x1, data = table.b4)\n",
    "L1\n",
    "plot(y ~ x1, data = table.b4)\n",
    "abline(L1, col = \"red\")\n"
   ]
  },
  {
   "cell_type": "code",
   "execution_count": 83,
   "metadata": {},
   "outputs": [
    {
     "data": {
      "text/plain": [
       "            Df Sum Sq Mean Sq F value   Pr(>F)    \n",
       "x1           1  636.2   636.2   72.56 2.05e-08 ***\n",
       "Residuals   22  192.9     8.8                     \n",
       "---\n",
       "Signif. codes:  0 '***' 0.001 '**' 0.01 '*' 0.05 '.' 0.1 ' ' 1"
      ]
     },
     "metadata": {},
     "output_type": "display_data"
    }
   ],
   "source": [
    "#b\n",
    "summary(aov(y ~ x1, data = table.b4))"
   ]
  },
  {
   "cell_type": "code",
   "execution_count": 86,
   "metadata": {},
   "outputs": [
    {
     "name": "stdout",
     "output_type": "stream",
     "text": [
      "R-squared:  0.767"
     ]
    }
   ],
   "source": [
    "#c \n",
    "cat(\"R-squared: \", round(summary(L1)$r.squared, 3))"
   ]
  },
  {
   "cell_type": "code",
   "execution_count": 91,
   "metadata": {},
   "outputs": [
    {
     "data": {
      "text/html": [
       "<table>\n",
       "<thead><tr><th></th><th scope=col>2.5 %</th><th scope=col>97.5 %</th></tr></thead>\n",
       "<tbody>\n",
       "\t<tr><th scope=row>(Intercept)</th><td>7.986755 </td><td>18.653604</td></tr>\n",
       "\t<tr><th scope=row>x1</th><td>2.514988 </td><td> 4.133754</td></tr>\n",
       "</tbody>\n",
       "</table>\n"
      ],
      "text/latex": [
       "\\begin{tabular}{r|ll}\n",
       "  & 2.5 \\% & 97.5 \\%\\\\\n",
       "\\hline\n",
       "\t(Intercept) & 7.986755  & 18.653604\\\\\n",
       "\tx1 & 2.514988  &  4.133754\\\\\n",
       "\\end{tabular}\n"
      ],
      "text/markdown": [
       "\n",
       "| <!--/--> | 2.5 % | 97.5 % | \n",
       "|---|---|\n",
       "| (Intercept) | 7.986755  | 18.653604 | \n",
       "| x1 | 2.514988  |  4.133754 | \n",
       "\n",
       "\n"
      ],
      "text/plain": [
       "            2.5 %    97.5 %   \n",
       "(Intercept) 7.986755 18.653604\n",
       "x1          2.514988  4.133754"
      ]
     },
     "metadata": {},
     "output_type": "display_data"
    }
   ],
   "source": [
    "#d\n",
    "confint(L1, level=0.95)"
   ]
  },
  {
   "cell_type": "code",
   "execution_count": 92,
   "metadata": {},
   "outputs": [
    {
     "data": {
      "text/html": [
       "<table>\n",
       "<thead><tr><th></th><th scope=col>fit</th><th scope=col>lwr</th><th scope=col>upr</th></tr></thead>\n",
       "<tbody>\n",
       "\t<tr><th scope=row>1</th><td>2506.599</td><td>1904.744</td><td>3108.453</td></tr>\n",
       "</tbody>\n",
       "</table>\n"
      ],
      "text/latex": [
       "\\begin{tabular}{r|lll}\n",
       "  & fit & lwr & upr\\\\\n",
       "\\hline\n",
       "\t1 & 2506.599 & 1904.744 & 3108.453\\\\\n",
       "\\end{tabular}\n"
      ],
      "text/markdown": [
       "\n",
       "| <!--/--> | fit | lwr | upr | \n",
       "|---|\n",
       "| 1 | 2506.599 | 1904.744 | 3108.453 | \n",
       "\n",
       "\n"
      ],
      "text/plain": [
       "  fit      lwr      upr     \n",
       "1 2506.599 1904.744 3108.453"
      ]
     },
     "metadata": {},
     "output_type": "display_data"
    }
   ],
   "source": [
    "#e\n",
    "x = data.frame(x1 = 750)\n",
    "predict(L1, x, interval = \"confidence\", confidence = .95)"
   ]
  },
  {
   "cell_type": "markdown",
   "metadata": {},
   "source": [
    "__2.7__ <br>The purity of oxygen produced by a fractional distillation process is thought\n",
    "to be related to the percentage of hydrocarbons in the main condensor of the\n",
    "processing unit. Twenty samples are shown below.<br>\n",
    "\n",
    "|Purily (%)| Hydrocarbon (%) |Purily (%)|Hydrocarbon (%)|\n",
    "|-|-|-|-|\n",
    "|86.91| 1.02| 96.73| 1.46|\n",
    "|89.85| 1.11| 99.42| 1.55|\n",
    "|90.28| 1.43| 98.66| 1.55|\n",
    "|86.34| 1.11| 96.07| 1.55|\n",
    "|92.58| 1.01| 93.65| 1.40|\n",
    "|87.33| 0.95| 87.31| 1.15|\n",
    "|86.29| 1.11| 95.00| 1.01|\n",
    "|91.86| 0.87| 96.85| 0.99|\n",
    "|95.61| 1.43| 85.20| 0.95|\n",
    "|89.86| 1.02| 90.56| 0.98|\n",
    "\n",
    "a. Fit a simple linear regression model to the data.<br>\n",
    "b. Test the hypothesis H0: β1 = 0.<br>\n",
    "c. Calculate R2.<br>\n",
    "d. Find a 95% CI on the slope.<br>\n",
    "e. Find a 95% CI on the mean purity when the hydrocarbon percentage is\n",
    "1.00.<br>"
   ]
  },
  {
   "cell_type": "code",
   "execution_count": 96,
   "metadata": {},
   "outputs": [],
   "source": [
    "#a\n",
    "Purily = c(86.91, 89.85, 90.28, 86.34, 92.58, 87.33, 86.29, 91.86, 95.61, 89.86,\n",
    "           96.73, 99.42, 98.66, 96.07, 93.65, 87.31, 95.00, 96.85, 85.20, 90.56)\n",
    "Hydrocarbon = c(1.02, 1.11, 1.43, 1.11, 1.01, 0.95, 1.11, 0.87, 1.43, 1.02,\n",
    "                1.46, 1.55, 1.55, 1.55, 1.40, 1.15, 1.01, 0.99, 0.95, 0.98)"
   ]
  },
  {
   "cell_type": "code",
   "execution_count": 98,
   "metadata": {},
   "outputs": [
    {
     "data": {
      "text/plain": [
       "\n",
       "Call:\n",
       "lm(formula = Purily ~ Hydrocarbon)\n",
       "\n",
       "Coefficients:\n",
       "(Intercept)  Hydrocarbon  \n",
       "      77.86        11.80  \n"
      ]
     },
     "metadata": {},
     "output_type": "display_data"
    },
    {
     "data": {
      "image/png": "[encoded data removed]",
      "text/plain": [
       "plot without title"
      ]
     },
     "metadata": {},
     "output_type": "display_data"
    }
   ],
   "source": [
    "L1 = lm(Purily ~ Hydrocarbon)\n",
    "L1\n",
    "plot(Purily ~ Hydrocarbon)\n",
    "abline(L1, col = \"red\")"
   ]
  },
  {
   "cell_type": "code",
   "execution_count": 105,
   "metadata": {},
   "outputs": [
    {
     "data": {
      "text/plain": [
       "\n",
       "Call:\n",
       "lm(formula = Purily ~ Hydrocarbon)\n",
       "\n",
       "Residuals:\n",
       "    Min      1Q  Median      3Q     Max \n",
       "-4.6724 -3.2113 -0.0626  2.5783  7.3037 \n",
       "\n",
       "Coefficients:\n",
       "            Estimate Std. Error t value Pr(>|t|)    \n",
       "(Intercept)   77.863      4.199  18.544 3.54e-13 ***\n",
       "Hydrocarbon   11.801      3.485   3.386  0.00329 ** \n",
       "---\n",
       "Signif. codes:  0 '***' 0.001 '**' 0.01 '*' 0.05 '.' 0.1 ' ' 1\n",
       "\n",
       "Residual standard error: 3.597 on 18 degrees of freedom\n",
       "Multiple R-squared:  0.3891,\tAdjusted R-squared:  0.3552 \n",
       "F-statistic: 11.47 on 1 and 18 DF,  p-value: 0.003291\n"
      ]
     },
     "metadata": {},
     "output_type": "display_data"
    }
   ],
   "source": [
    "#b.\n",
    "summary(L1)"
   ]
  },
  {
   "cell_type": "markdown",
   "metadata": {},
   "source": [
    "\n",
    "p-value: 0.003291 < 0.05 => Reject Ho. "
   ]
  },
  {
   "cell_type": "code",
   "execution_count": 107,
   "metadata": {},
   "outputs": [
    {
     "name": "stdout",
     "output_type": "stream",
     "text": [
      "R-squared: 0.389"
     ]
    }
   ],
   "source": [
    "#c\n",
    "cat(\"R-squared:\",round(summary(L1)$r.squared,3))"
   ]
  },
  {
   "cell_type": "code",
   "execution_count": 108,
   "metadata": {},
   "outputs": [
    {
     "data": {
      "text/html": [
       "<table>\n",
       "<thead><tr><th></th><th scope=col>2.5 %</th><th scope=col>97.5 %</th></tr></thead>\n",
       "<tbody>\n",
       "\t<tr><th scope=row>(Intercept)</th><td>69.041747</td><td>86.68482 </td></tr>\n",
       "\t<tr><th scope=row>Hydrocarbon</th><td> 4.479066</td><td>19.12299 </td></tr>\n",
       "</tbody>\n",
       "</table>\n"
      ],
      "text/latex": [
       "\\begin{tabular}{r|ll}\n",
       "  & 2.5 \\% & 97.5 \\%\\\\\n",
       "\\hline\n",
       "\t(Intercept) & 69.041747 & 86.68482 \\\\\n",
       "\tHydrocarbon &  4.479066 & 19.12299 \\\\\n",
       "\\end{tabular}\n"
      ],
      "text/markdown": [
       "\n",
       "| <!--/--> | 2.5 % | 97.5 % | \n",
       "|---|---|\n",
       "| (Intercept) | 69.041747 | 86.68482  | \n",
       "| Hydrocarbon |  4.479066 | 19.12299  | \n",
       "\n",
       "\n"
      ],
      "text/plain": [
       "            2.5 %     97.5 %  \n",
       "(Intercept) 69.041747 86.68482\n",
       "Hydrocarbon  4.479066 19.12299"
      ]
     },
     "metadata": {},
     "output_type": "display_data"
    }
   ],
   "source": [
    "#d\n",
    "confint(L1, level=0.95)"
   ]
  },
  {
   "cell_type": "code",
   "execution_count": 109,
   "metadata": {},
   "outputs": [
    {
     "data": {
      "text/html": [
       "<table>\n",
       "<thead><tr><th></th><th scope=col>fit</th><th scope=col>lwr</th><th scope=col>upr</th></tr></thead>\n",
       "<tbody>\n",
       "\t<tr><th scope=row>1</th><td>89.66431</td><td>87.51017</td><td>91.81845</td></tr>\n",
       "</tbody>\n",
       "</table>\n"
      ],
      "text/latex": [
       "\\begin{tabular}{r|lll}\n",
       "  & fit & lwr & upr\\\\\n",
       "\\hline\n",
       "\t1 & 89.66431 & 87.51017 & 91.81845\\\\\n",
       "\\end{tabular}\n"
      ],
      "text/markdown": [
       "\n",
       "| <!--/--> | fit | lwr | upr | \n",
       "|---|\n",
       "| 1 | 89.66431 | 87.51017 | 91.81845 | \n",
       "\n",
       "\n"
      ],
      "text/plain": [
       "  fit      lwr      upr     \n",
       "1 89.66431 87.51017 91.81845"
      ]
     },
     "metadata": {},
     "output_type": "display_data"
    }
   ],
   "source": [
    "#e\n",
    "x = data.frame(Hydrocarbon = 1.00)\n",
    "predict(L1, x, interval = \"confidence\", level = 0.95)"
   ]
  },
  {
   "cell_type": "markdown",
   "metadata": {},
   "source": [
    "__2.8__ <br> Consider the oxygen plant data in Problem 2.7 and assume that purity and\n",
    "hydrocarbon percentage are jointly normally distributed random variables.<br>\n",
    "__a.__ What is the correlation between oxygen purity and hydrocarbon\n",
    "percentage?<br>\n",
    "__b.__ Test the hypothesis that ρ = 0.<br>\n",
    "__c.__ Construct a 95% CI for ρ.<br>"
   ]
  },
  {
   "cell_type": "code",
   "execution_count": 113,
   "metadata": {},
   "outputs": [
    {
     "name": "stdout",
     "output_type": "stream",
     "text": [
      "r =  0.6237968"
     ]
    }
   ],
   "source": [
    "#a\n",
    "cat(\"r = \", (summary(L1)$r.squared)^(1/2))"
   ]
  },
  {
   "cell_type": "code",
   "execution_count": 115,
   "metadata": {},
   "outputs": [
    {
     "data": {
      "text/plain": [
       "\n",
       "\tPearson's product-moment correlation\n",
       "\n",
       "data:  Hydrocarbon and Purily\n",
       "t = 3.3861, df = 18, p-value = 0.003291\n",
       "alternative hypothesis: true correlation is not equal to 0\n",
       "95 percent confidence interval:\n",
       " 0.2503961 0.8356439\n",
       "sample estimates:\n",
       "      cor \n",
       "0.6237968 \n"
      ]
     },
     "metadata": {},
     "output_type": "display_data"
    }
   ],
   "source": [
    "#b\n",
    "cor.test(x = Hydrocarbon, y = Purily)"
   ]
  },
  {
   "cell_type": "code",
   "execution_count": 120,
   "metadata": {},
   "outputs": [
    {
     "data": {
      "text/html": [
       "<ol class=list-inline>\n",
       "\t<li>0.2504</li>\n",
       "\t<li>0.8356</li>\n",
       "</ol>\n"
      ],
      "text/latex": [
       "\\begin{enumerate*}\n",
       "\\item 0.2504\n",
       "\\item 0.8356\n",
       "\\end{enumerate*}\n"
      ],
      "text/markdown": [
       "1. 0.2504\n",
       "2. 0.8356\n",
       "\n",
       "\n"
      ],
      "text/plain": [
       "[1] 0.2504 0.8356\n",
       "attr(,\"conf.level\")\n",
       "[1] 0.95"
      ]
     },
     "metadata": {},
     "output_type": "display_data"
    }
   ],
   "source": [
    "#c\n",
    "round(cor.test(x = Hydrocarbon, y = Purily)$conf.int, 4)"
   ]
  },
  {
   "cell_type": "markdown",
   "metadata": {},
   "source": [
    "__2.10__ <br>The weight and systolic blood pressure of 26 randomly selected males in the\n",
    "age group 25 – 30 are shown below. Assume that weight and blood pressure\n",
    "(BP) are jointly normally distributed. <br>\n",
    "__a.__ Find a regression line relating systolic blood pressure to weight.<br>\n",
    "__b.__ Estimate the correlatiou coefficient.<br>\n",
    "__c.__ Test the hypothesis that ρ = 0.<br>\n",
    "__d.__ Test the hypothesis that ρ = 0.6.<br>\n",
    "__e.__ Find a 95% CI for ρ.<br>"
   ]
  },
  {
   "cell_type": "code",
   "execution_count": 122,
   "metadata": {},
   "outputs": [
    {
     "data": {
      "text/html": [
       "<table>\n",
       "<thead><tr><th scope=col>weight</th><th scope=col>sysbp</th></tr></thead>\n",
       "<tbody>\n",
       "\t<tr><td>165</td><td>130</td></tr>\n",
       "\t<tr><td>167</td><td>133</td></tr>\n",
       "\t<tr><td>180</td><td>150</td></tr>\n",
       "\t<tr><td>155</td><td>128</td></tr>\n",
       "\t<tr><td>212</td><td>151</td></tr>\n",
       "\t<tr><td>175</td><td>146</td></tr>\n",
       "</tbody>\n",
       "</table>\n"
      ],
      "text/latex": [
       "\\begin{tabular}{r|ll}\n",
       " weight & sysbp\\\\\n",
       "\\hline\n",
       "\t 165 & 130\\\\\n",
       "\t 167 & 133\\\\\n",
       "\t 180 & 150\\\\\n",
       "\t 155 & 128\\\\\n",
       "\t 212 & 151\\\\\n",
       "\t 175 & 146\\\\\n",
       "\\end{tabular}\n"
      ],
      "text/markdown": [
       "\n",
       "weight | sysbp | \n",
       "|---|---|---|---|---|---|\n",
       "| 165 | 130 | \n",
       "| 167 | 133 | \n",
       "| 180 | 150 | \n",
       "| 155 | 128 | \n",
       "| 212 | 151 | \n",
       "| 175 | 146 | \n",
       "\n",
       "\n"
      ],
      "text/plain": [
       "  weight sysbp\n",
       "1 165    130  \n",
       "2 167    133  \n",
       "3 180    150  \n",
       "4 155    128  \n",
       "5 212    151  \n",
       "6 175    146  "
      ]
     },
     "metadata": {},
     "output_type": "display_data"
    }
   ],
   "source": [
    "head(p2.10)"
   ]
  },
  {
   "cell_type": "code",
   "execution_count": 127,
   "metadata": {},
   "outputs": [
    {
     "data": {
      "text/plain": [
       "\n",
       "Call:\n",
       "lm(formula = sysbp ~ weight, data = p2.10)\n",
       "\n",
       "Coefficients:\n",
       "(Intercept)       weight  \n",
       "    69.1044       0.4194  \n"
      ]
     },
     "metadata": {},
     "output_type": "display_data"
    }
   ],
   "source": [
    "#a\n",
    "attach(p2.10)\n",
    "L1 = lm(sysbp ~ weight, data = p2.10)\n",
    "L1"
   ]
  },
  {
   "cell_type": "code",
   "execution_count": 129,
   "metadata": {},
   "outputs": [
    {
     "name": "stdout",
     "output_type": "stream",
     "text": [
      "Cor =  0.773"
     ]
    }
   ],
   "source": [
    "#b\n",
    "cat(\"Cor = \", round(cor(weight, sysbp, method=\"pearson\"),3))"
   ]
  },
  {
   "cell_type": "code",
   "execution_count": 131,
   "metadata": {},
   "outputs": [
    {
     "data": {
      "text/plain": [
       "\n",
       "\tPearson's product-moment correlation\n",
       "\n",
       "data:  weight and sysbp\n",
       "t = 5.9786, df = 24, p-value = 3.591e-06\n",
       "alternative hypothesis: true correlation is not equal to 0\n",
       "95 percent confidence interval:\n",
       " 0.5513214 0.8932215\n",
       "sample estimates:\n",
       "      cor \n",
       "0.7734903 \n"
      ]
     },
     "metadata": {},
     "output_type": "display_data"
    }
   ],
   "source": [
    "#c\n",
    "cor.test(weight, sysbp, method=\"pearson\")$"
   ]
  },
  {
   "cell_type": "code",
   "execution_count": 133,
   "metadata": {},
   "outputs": [
    {
     "data": {
      "text/plain": [
       "\n",
       "\tPearson's product-moment correlation\n",
       "\n",
       "data:  weight and sysbp\n",
       "t = 5.9786, df = 24, p-value = 3.591e-06\n",
       "alternative hypothesis: true correlation is not equal to 0\n",
       "95 percent confidence interval:\n",
       " 0.5513214 0.8932215\n",
       "sample estimates:\n",
       "      cor \n",
       "0.7734903 \n"
      ]
     },
     "metadata": {},
     "output_type": "display_data"
    }
   ],
   "source": [
    "#d\n",
    "cor.test(weight, sysbp, method=\"pearson\", rho = .6)"
   ]
  },
  {
   "cell_type": "code",
   "execution_count": 134,
   "metadata": {},
   "outputs": [
    {
     "data": {
      "text/html": [
       "<ol class=list-inline>\n",
       "\t<li>0.551321403427661</li>\n",
       "\t<li>0.893221496202781</li>\n",
       "</ol>\n"
      ],
      "text/latex": [
       "\\begin{enumerate*}\n",
       "\\item 0.551321403427661\n",
       "\\item 0.893221496202781\n",
       "\\end{enumerate*}\n"
      ],
      "text/markdown": [
       "1. 0.551321403427661\n",
       "2. 0.893221496202781\n",
       "\n",
       "\n"
      ],
      "text/plain": [
       "[1] 0.5513214 0.8932215\n",
       "attr(,\"conf.level\")\n",
       "[1] 0.95"
      ]
     },
     "metadata": {},
     "output_type": "display_data"
    }
   ],
   "source": [
    "#e\n",
    "cor.test(weight, sysbp, method=\"pearson\")$conf.int"
   ]
  },
  {
   "cell_type": "markdown",
   "metadata": {},
   "source": [
    "__2.11__ <br>\n",
    "Consider the weight and blood pressure data in Problem 2.10. Fit a no -\n",
    "intercept model to the data and compare it to the model obtained in Problem\n",
    "2.10. Which model would you conclude is superior?"
   ]
  },
  {
   "cell_type": "code",
   "execution_count": 144,
   "metadata": {},
   "outputs": [
    {
     "data": {
      "text/plain": [
       "\n",
       "Call:\n",
       "lm(formula = sysbp ~ 0 + weight, data = p2.10)\n",
       "\n",
       "Coefficients:\n",
       "weight  \n",
       "0.7916  \n"
      ]
     },
     "metadata": {},
     "output_type": "display_data"
    },
    {
     "data": {
      "text/plain": [
       "          Df Sum Sq Mean Sq F value Pr(>F)    \n",
       "weight     1 551834  551834    3477 <2e-16 ***\n",
       "Residuals 25   3968     159                   \n",
       "---\n",
       "Signif. codes:  0 '***' 0.001 '**' 0.01 '*' 0.05 '.' 0.1 ' ' 1"
      ]
     },
     "metadata": {},
     "output_type": "display_data"
    },
    {
     "data": {
      "image/png": "[encoded data removed]",
      "text/plain": [
       "plot without title"
      ]
     },
     "metadata": {},
     "output_type": "display_data"
    }
   ],
   "source": [
    "L2 = lm(sysbp ~ 0 + weight, data = p2.10)\n",
    "L2\n",
    "plot(sysbp ~ weight, xlim = c(0,240), ylim = c(0,180))\n",
    "abline(L2, col = \"blue\", lwd = 2)\n",
    "summary(aov(L2))"
   ]
  },
  {
   "cell_type": "markdown",
   "metadata": {},
   "source": [
    "__2.12__ <br> \n",
    "The number of pounds of steam used per month at a plant is thought to be\n",
    "related to the average monthly ambient temperature. The past year ’ s usages\n",
    "and temperatures follow <br> \n",
    "__a.__ Fit a simple linear regression model to the data.<br>\n",
    "__b.__ Test for significance of regression.<br>\n",
    "__c.__ Plant management believes that an increase in average ambient temperature of 1 degree will increase average monthly steam consumption by\n",
    "10,000 lb. Do the data support this statement?<br>\n",
    "__d.__ Construct a 99% prediction interval on steam usage in a month with\n",
    "average ambient temperature of 58 ° .<br>"
   ]
  },
  {
   "cell_type": "code",
   "execution_count": 154,
   "metadata": {},
   "outputs": [
    {
     "data": {
      "text/plain": [
       "\n",
       "Call:\n",
       "lm(formula = usage ~ temp, data = p2.12)\n",
       "\n",
       "Coefficients:\n",
       "(Intercept)         temp  \n",
       "     -6.332        9.208  \n"
      ]
     },
     "metadata": {},
     "output_type": "display_data"
    }
   ],
   "source": [
    "#a\n",
    "L1 = lm(usage ~ temp, data = p2.12)\n",
    "L1"
   ]
  },
  {
   "cell_type": "code",
   "execution_count": 156,
   "metadata": {},
   "outputs": [
    {
     "data": {
      "image/png": "[encoded data removed]",
      "text/plain": [
       "plot without title"
      ]
     },
     "metadata": {},
     "output_type": "display_data"
    }
   ],
   "source": [
    "plot(usage ~ temp, data = p2.12)\n",
    "abline(L1, lwd = 2, col = \"red\")"
   ]
  },
  {
   "cell_type": "code",
   "execution_count": 157,
   "metadata": {},
   "outputs": [
    {
     "data": {
      "text/plain": [
       "            Df Sum Sq Mean Sq F value Pr(>F)    \n",
       "temp         1 280590  280590   74123 <2e-16 ***\n",
       "Residuals   10     38       4                   \n",
       "---\n",
       "Signif. codes:  0 '***' 0.001 '**' 0.01 '*' 0.05 '.' 0.1 ' ' 1"
      ]
     },
     "metadata": {},
     "output_type": "display_data"
    }
   ],
   "source": [
    "#b\n",
    "summary(aov(usage ~ temp, data = p2.12))"
   ]
  },
  {
   "cell_type": "code",
   "execution_count": 175,
   "metadata": {},
   "outputs": [
    {
     "name": "stdout",
     "output_type": "stream",
     "text": [
      "t.value:  -23.4181\n",
      "p-value:  3.478329e-13"
     ]
    }
   ],
   "source": [
    "#c\n",
    "#Ho b1 = 1000\n",
    "#Ha b1 != 1000\n",
    "t.value = (9.208 - 10)/0.03382\n",
    "cat(\"t.value: \", t.value)\n",
    "cat(\"\\np-value: \", \n",
    "    pt(t.value, df = length(temp), ncp = 0.95))\n"
   ]
  },
  {
   "cell_type": "markdown",
   "metadata": {},
   "source": [
    "Reject Ho and claim that the usage increase is less than 10,000."
   ]
  },
  {
   "cell_type": "code",
   "execution_count": 179,
   "metadata": {},
   "outputs": [
    {
     "data": {
      "text/html": [
       "<table>\n",
       "<thead><tr><th></th><th scope=col>fit</th><th scope=col>lwr</th><th scope=col>upr</th></tr></thead>\n",
       "<tbody>\n",
       "\t<tr><th scope=row>1</th><td>527.759 </td><td>523.1644</td><td>532.3537</td></tr>\n",
       "</tbody>\n",
       "</table>\n"
      ],
      "text/latex": [
       "\\begin{tabular}{r|lll}\n",
       "  & fit & lwr & upr\\\\\n",
       "\\hline\n",
       "\t1 & 527.759  & 523.1644 & 532.3537\\\\\n",
       "\\end{tabular}\n"
      ],
      "text/markdown": [
       "\n",
       "| <!--/--> | fit | lwr | upr | \n",
       "|---|\n",
       "| 1 | 527.759  | 523.1644 | 532.3537 | \n",
       "\n",
       "\n"
      ],
      "text/plain": [
       "  fit     lwr      upr     \n",
       "1 527.759 523.1644 532.3537"
      ]
     },
     "metadata": {},
     "output_type": "display_data"
    }
   ],
   "source": [
    "#d.\n",
    "tempt = data.frame(temp = 58)\n",
    "predict(L1, tempt, interval = \"prediction\", confidence = 0.99)"
   ]
  },
  {
   "cell_type": "markdown",
   "metadata": {},
   "source": [
    "__2.13__ <br>\n",
    "Davidson ( “ Update on Ozone Trends in California ’ s South Coast Air\n",
    "Basin, ” Air and Waste, 43, 226, 1993) studied the ozone levels in the South\n",
    "Coast Air Basin of California for the years 1976 – 1991. He believes that\n",
    "the number of days the ozone levels exceeded 0.20 ppm (the response)\n",
    "depends on the seasonal meteorological index, which is the seasonal\n",
    "average 850 - millibar temperature (the regressor). The following table gives\n",
    "the data. <br>\n",
    "\n",
    "a. Make a scatterplot of the data.<br>\n",
    "b. Estimate the prediction equation.<br>\n",
    "c. Test for significance of regression.<br>\n",
    "d. Calculate and plot the 95% confidence and prediction bands<br>"
   ]
  },
  {
   "cell_type": "code",
   "execution_count": 182,
   "metadata": {},
   "outputs": [
    {
     "data": {
      "image/png": "[encoded data removed]",
      "text/plain": [
       "plot without title"
      ]
     },
     "metadata": {},
     "output_type": "display_data"
    }
   ],
   "source": [
    "plot(days ~ index, data = p2.13)"
   ]
  },
  {
   "cell_type": "code",
   "execution_count": 184,
   "metadata": {},
   "outputs": [
    {
     "data": {
      "text/plain": [
       "\n",
       "Call:\n",
       "lm(formula = days ~ index, data = p2.13)\n",
       "\n",
       "Coefficients:\n",
       "(Intercept)        index  \n",
       "    183.596       -7.404  \n"
      ]
     },
     "metadata": {},
     "output_type": "display_data"
    }
   ],
   "source": [
    "#b\n",
    "L1 = lm(days ~ index, data = p2.13)\n",
    "L1"
   ]
  },
  {
   "cell_type": "code",
   "execution_count": 185,
   "metadata": {},
   "outputs": [
    {
     "data": {
      "text/plain": [
       "            Df Sum Sq Mean Sq F value Pr(>F)\n",
       "index        1    350   349.7   0.359  0.558\n",
       "Residuals   14  13625   973.2               "
      ]
     },
     "metadata": {},
     "output_type": "display_data"
    }
   ],
   "source": [
    "#c\n",
    "summary(aov(days ~ index, data = p2.13))"
   ]
  },
  {
   "cell_type": "code",
   "execution_count": 220,
   "metadata": {},
   "outputs": [
    {
     "data": {
      "image/png": "[encoded data removed]",
      "text/plain": [
       "plot without title"
      ]
     },
     "metadata": {},
     "output_type": "display_data"
    }
   ],
   "source": [
    "#d\n",
    "index1 = data.frame(index = seq(16,18.2, length = 200))\n",
    "ci.band = predict(L1, index1, interval = \"confidence\", confidence = 0.95 )\n",
    "pi.band = predict(L1, index1, interval = \"prediction\", confidence = 0.95 )\n",
    "\n",
    "plot(days ~ index, data = p2.13, ylim = c(-20,160))\n",
    "abline(L1, lwd =2, col = \"red\")\n",
    "lines(index1[,1], ci.band[,2], lty = 2, col = \"blue\", lwd = 2)\n",
    "lines(index1[,1], ci.band[,3], lty = 2, col = \"blue\", lwd = 2)\n",
    "lines(index1[,1], pi.band[,2], lty = 4, col = \"green\", lwd = 2)\n",
    "lines(index1[,1], pi.band[,3], lty = 4, col = \"green\", lwd = 2)\n",
    "legend(\"topright\", legend = c(\"Fit\", \"95% CI\", \"95% PI\"), lty = c(2,4), lwd = c(2,2), col = c(\"red\",\"blue\", \"green\"))"
   ]
  },
  {
   "cell_type": "markdown",
   "metadata": {},
   "source": [
    "__2.14__ <br>\n",
    "Hsuie, Ma, and Tsai ( “ Separation and Characterizations of Thermotropic\n",
    "Copolyesters of p- Hydroxybenzoic Acid, Sebacic Acid, and Hydroquinone, ”\n",
    "Journal of Applied Polymer Science, 56, 471 – 476, 1995) study the effect of the\n",
    "molar ratio of sebacic acid (the regressor) on the intrinsic viscosity of copolyesters (the response). The following table gives the data. <br> \n",
    "\n",
    "__a.__ Make a scatterplot of the data.<br> \n",
    "__b.__ Estimate the prediction equation.<br> \n",
    "__c.__ Perform a complete, appropriate analysis (statistical tests, calculation of\n",
    "R2, and so forth).<br> \n",
    "__d.__ Calculate and plot the 95% confidence and prediction bands.<br> "
   ]
  },
  {
   "cell_type": "code",
   "execution_count": 211,
   "metadata": {},
   "outputs": [
    {
     "data": {
      "image/png": "[encoded data removed]",
      "text/plain": [
       "plot without title"
      ]
     },
     "metadata": {},
     "output_type": "display_data"
    }
   ],
   "source": [
    "#a\n",
    "plot(visc ~ ratio, data = p2.14)"
   ]
  },
  {
   "cell_type": "code",
   "execution_count": 222,
   "metadata": {},
   "outputs": [
    {
     "data": {
      "text/plain": [
       "\n",
       "Call:\n",
       "lm(formula = visc ~ ratio, data = p2.14)\n",
       "\n",
       "Coefficients:\n",
       "(Intercept)        ratio  \n",
       "     0.6714      -0.2964  \n"
      ]
     },
     "metadata": {},
     "output_type": "display_data"
    }
   ],
   "source": [
    "#b\n",
    "lm(visc ~ ratio, data = p2.14)"
   ]
  },
  {
   "cell_type": "code",
   "execution_count": 223,
   "metadata": {},
   "outputs": [
    {
     "data": {
      "text/plain": [
       "\n",
       "Call:\n",
       "lm(formula = visc ~ ratio, data = p2.14)\n",
       "\n",
       "Residuals:\n",
       "     Min       1Q   Median       3Q      Max \n",
       "-0.20464 -0.10634  0.02196  0.08527  0.20643 \n",
       "\n",
       "Coefficients:\n",
       "            Estimate Std. Error t value Pr(>|t|)   \n",
       "(Intercept)   0.6714     0.1595   4.209  0.00563 **\n",
       "ratio        -0.2964     0.2314  -1.281  0.24754   \n",
       "---\n",
       "Signif. codes:  0 '***' 0.001 '**' 0.01 '*' 0.05 '.' 0.1 ' ' 1\n",
       "\n",
       "Residual standard error: 0.15 on 6 degrees of freedom\n",
       "Multiple R-squared:  0.2147,\tAdjusted R-squared:  0.08382 \n",
       "F-statistic:  1.64 on 1 and 6 DF,  p-value: 0.2475\n"
      ]
     },
     "metadata": {},
     "output_type": "display_data"
    }
   ],
   "source": [
    "#c\n",
    "summary(lm(visc ~ ratio, data = p2.14))"
   ]
  },
  {
   "cell_type": "code",
   "execution_count": 224,
   "metadata": {},
   "outputs": [
    {
     "data": {
      "text/plain": [
       "            Df  Sum Sq Mean Sq F value Pr(>F)\n",
       "ratio        1 0.03691 0.03691    1.64  0.248\n",
       "Residuals    6 0.13498 0.02250               "
      ]
     },
     "metadata": {},
     "output_type": "display_data"
    }
   ],
   "source": [
    "summary(aov(visc ~ ratio, data = p2.14))"
   ]
  },
  {
   "cell_type": "code",
   "execution_count": 234,
   "metadata": {},
   "outputs": [
    {
     "data": {
      "image/png": "[encoded data removed]",
      "text/plain": [
       "plot without title"
      ]
     },
     "metadata": {},
     "output_type": "display_data"
    }
   ],
   "source": [
    "#d\n",
    "L1 = lm(visc ~ ratio, data = p2.14)\n",
    "\n",
    "index1 = data.frame(ratio = seq(0.3,1.0, length = 200))\n",
    "ci.band = predict(L1, index1, interval = \"confidence\", confidence = 0.95 )\n",
    "pi.band = predict(L1, index1, interval = \"prediction\", confidence = 0.95 )\n",
    "\n",
    "plot(visc ~ ratio, data = p2.14, ylim = c(0,1))\n",
    "abline(L1, lwd =2, col = \"red\")\n",
    "lines(index1[,1], ci.band[,2], lty = 2, col = \"blue\", lwd = 2)\n",
    "lines(index1[,1], ci.band[,3], lty = 2, col = \"blue\", lwd = 2)\n",
    "lines(index1[,1], pi.band[,2], lty = 4, col = \"green\", lwd = 2)\n",
    "lines(index1[,1], pi.band[,3], lty = 4, col = \"green\", lwd = 2)\n",
    "legend(\"topright\", legend = c(\"Fit\", \"95% CI\", \"95% PI\"), lty = c(2,4), lwd = c(2,2), col = c(\"red\",\"blue\", \"green\"))"
   ]
  },
  {
   "cell_type": "markdown",
   "metadata": {},
   "source": [
    "__2.15__ <br>\n",
    "\n",
    " Byers and Williams ( “ Viscosities of Binary and Ternary Mixtures of\n",
    "Polynomatic Hydrocarbons, ” Journal of Chemical and Engineering Data, 32,\n",
    "349 – 354, 1987) studied the impact of temperature on the viscosity of toluene –\n",
    "tetralin blends. The following table gives the data for blends with a 0.4 molar\n",
    "fraction of toluene. <br>\n",
    "\n",
    "__a.__ Estimate the prediction equation.<br><br>\n",
    "__b.__ Perform a complete analysis of the model.<br><br>\n",
    "__c.__ Calculate and plot the 95% confidence and prediction bands<br><br>"
   ]
  },
  {
   "cell_type": "code",
   "execution_count": 240,
   "metadata": {},
   "outputs": [
    {
     "data": {
      "text/plain": [
       "\n",
       "Call:\n",
       "lm(formula = visc ~ temp, data = p2.15)\n",
       "\n",
       "Coefficients:\n",
       "(Intercept)         temp  \n",
       "   1.281511    -0.008758  \n"
      ]
     },
     "metadata": {},
     "output_type": "display_data"
    }
   ],
   "source": [
    "#a\n",
    "L1 = lm(visc ~ temp, data = p2.15)\n",
    "(L1)"
   ]
  },
  {
   "cell_type": "code",
   "execution_count": 241,
   "metadata": {},
   "outputs": [
    {
     "data": {
      "text/plain": [
       "\n",
       "Call:\n",
       "lm(formula = visc ~ temp, data = p2.15)\n",
       "\n",
       "Residuals:\n",
       "      Min        1Q    Median        3Q       Max \n",
       "-0.043955 -0.035863 -0.009305  0.019900  0.069559 \n",
       "\n",
       "Coefficients:\n",
       "              Estimate Std. Error t value Pr(>|t|)    \n",
       "(Intercept)  1.2815107  0.0468683   27.34 1.58e-07 ***\n",
       "temp        -0.0087578  0.0007284  -12.02 2.01e-05 ***\n",
       "---\n",
       "Signif. codes:  0 '***' 0.001 '**' 0.01 '*' 0.05 '.' 0.1 ' ' 1\n",
       "\n",
       "Residual standard error: 0.04743 on 6 degrees of freedom\n",
       "Multiple R-squared:  0.9602,\tAdjusted R-squared:  0.9535 \n",
       "F-statistic: 144.6 on 1 and 6 DF,  p-value: 2.007e-05\n"
      ]
     },
     "metadata": {},
     "output_type": "display_data"
    },
    {
     "data": {
      "text/plain": [
       "            Df Sum Sq Mean Sq F value   Pr(>F)    \n",
       "temp         1 0.3253  0.3253   144.6 2.01e-05 ***\n",
       "Residuals    6 0.0135  0.0022                     \n",
       "---\n",
       "Signif. codes:  0 '***' 0.001 '**' 0.01 '*' 0.05 '.' 0.1 ' ' 1"
      ]
     },
     "metadata": {},
     "output_type": "display_data"
    }
   ],
   "source": [
    "#b\n",
    "summary(L1)\n",
    "summary(aov(L1))"
   ]
  },
  {
   "cell_type": "code",
   "execution_count": 242,
   "metadata": {},
   "outputs": [
    {
     "data": {
      "image/png": "[encoded data removed]",
      "text/plain": [
       "plot without title"
      ]
     },
     "metadata": {},
     "output_type": "display_data"
    }
   ],
   "source": [
    "#c\n",
    "L1 = lm(visc ~ temp, data = p2.15)\n",
    "\n",
    "index1 = data.frame(temp = seq(20,100, length = 200))\n",
    "ci.band = predict(L1, index1, interval = \"confidence\", confidence = 0.95 )\n",
    "pi.band = predict(L1, index1, interval = \"prediction\", confidence = 0.95 )\n",
    "\n",
    "plot(visc ~ temp, data = p2.15, ylim = c(0,1.5))\n",
    "abline(L1, lwd =2, col = \"red\")\n",
    "lines(index1[,1], ci.band[,2], lty = 2, col = \"blue\", lwd = 2)\n",
    "lines(index1[,1], ci.band[,3], lty = 2, col = \"blue\", lwd = 2)\n",
    "lines(index1[,1], pi.band[,2], lty = 4, col = \"green\", lwd = 2)\n",
    "lines(index1[,1], pi.band[,3], lty = 4, col = \"green\", lwd = 2)\n",
    "legend(\"topright\", legend = c(\"Fit\", \"95% CI\", \"95% PI\"), lty = c(2,4), lwd = c(2,2), col = c(\"red\",\"blue\", \"green\"))"
   ]
  },
  {
   "cell_type": "markdown",
   "metadata": {},
   "source": [
    "__2.16__ <br>\n",
    "Carroll and Spiegelman ( “ The Effects of Ignoring Small Measurement Errors\n",
    "in Precision Instrument Calibration, ” Journal of Quality Technology, 18, 170 –\n",
    "173, 1986) look at the relationship between the pressure in a tank and the\n",
    "volume of liquid. The following table gives the data. Use an appropriate statistical software package to perform an analysis of these data. Comment on\n",
    "the output produced by the software routine."
   ]
  },
  {
   "cell_type": "code",
   "execution_count": 249,
   "metadata": {},
   "outputs": [
    {
     "data": {
      "text/plain": [
       "\n",
       "Call:\n",
       "lm(formula = pressure ~ volume, data = p2.16)\n",
       "\n",
       "Coefficients:\n",
       "(Intercept)       volume  \n",
       "   -290.707        2.346  \n"
      ]
     },
     "metadata": {},
     "output_type": "display_data"
    },
    {
     "data": {
      "text/plain": [
       "            Df    Sum Sq   Mean Sq  F value Pr(>F)    \n",
       "volume       1 103947022 103947022 34286009 <2e-16 ***\n",
       "Residuals   31        94         3                    \n",
       "---\n",
       "Signif. codes:  0 '***' 0.001 '**' 0.01 '*' 0.05 '.' 0.1 ' ' 1"
      ]
     },
     "metadata": {},
     "output_type": "display_data"
    },
    {
     "data": {
      "text/plain": [
       "\n",
       "Call:\n",
       "lm(formula = pressure ~ volume, data = p2.16)\n",
       "\n",
       "Residuals:\n",
       "    Min      1Q  Median      3Q     Max \n",
       "-4.3276 -0.9227  0.0773  1.2676  2.9577 \n",
       "\n",
       "Coefficients:\n",
       "              Estimate Std. Error t value Pr(>|t|)    \n",
       "(Intercept) -2.907e+02  1.355e+00  -214.6   <2e-16 ***\n",
       "volume       2.346e+00  4.007e-04  5855.4   <2e-16 ***\n",
       "---\n",
       "Signif. codes:  0 '***' 0.001 '**' 0.01 '*' 0.05 '.' 0.1 ' ' 1\n",
       "\n",
       "Residual standard error: 1.741 on 31 degrees of freedom\n",
       "Multiple R-squared:      1,\tAdjusted R-squared:      1 \n",
       "F-statistic: 3.429e+07 on 1 and 31 DF,  p-value: < 2.2e-16\n"
      ]
     },
     "metadata": {},
     "output_type": "display_data"
    },
    {
     "data": {
      "image/png": "[encoded data removed]",
      "text/plain": [
       "plot without title"
      ]
     },
     "metadata": {},
     "output_type": "display_data"
    }
   ],
   "source": [
    "L1 = lm(pressure ~ volume, data = p2.16)\n",
    "L1\n",
    "summary(aov(L1))\n",
    "summary(L1)\n",
    "plot(pressure ~ volume, data = p2.16)\n",
    "abline(L1, lwd = 2, col = \"red\")"
   ]
  },
  {
   "cell_type": "markdown",
   "metadata": {},
   "source": [
    "__2.23__ <br> Consider the simple linear regression model y = 50 + 10x + ε where ε is NID\n",
    "(0, 16). Suppose that n = 20 pairs of observations are used to fi t this model. <br>\n",
    "Generate 500 samples of 20 observations, drawing one observation for each\n",
    "level of x = 1, 1.5, 2, . . . , 10 for each sample. <br>\n",
    "__a.__ For each sample compute the least - squares estimates of the slope and\n",
    "intercept. Construct histograms of the sample values of βˆ 0 and βˆ1. Discuss\n",
    "the shape of these histograms. <br>\n",
    "__b.__ For each sample, compute an estimate of E(y|x = 5). Construct a histogram\n",
    "of the estimates you obtained. Discuss the shape of the histogram. <br>\n",
    "__c.__ For each sample, compute a 95% CI on the slope. How many of these\n",
    "intervals contain the true value β1 = 10? Is this what you would expect? <br>\n",
    "__d.__ For each estimate of E(y|x = 5) in part b, compute the 95% CI. How many\n",
    "of these intervals contain the true value of E(y|x = 5) = 100? Is this what\n",
    "you would expect? <br>"
   ]
  },
  {
   "cell_type": "code",
   "execution_count": 256,
   "metadata": {},
   "outputs": [
    {
     "data": {
      "text/plain": [
       "\n",
       "Call:\n",
       "lm(formula = y ~ x)\n",
       "\n",
       "Residuals:\n",
       "    Min      1Q  Median      3Q     Max \n",
       "-29.584 -12.136  -3.849   8.484  39.760 \n",
       "\n",
       "Coefficients:\n",
       "            Estimate Std. Error t value Pr(>|t|)    \n",
       "(Intercept)   49.686      9.048   5.491 3.97e-05 ***\n",
       "x             10.284      1.473   6.983 2.20e-06 ***\n",
       "---\n",
       "Signif. codes:  0 '***' 0.001 '**' 0.01 '*' 0.05 '.' 0.1 ' ' 1\n",
       "\n",
       "Residual standard error: 17.58 on 17 degrees of freedom\n",
       "Multiple R-squared:  0.7415,\tAdjusted R-squared:  0.7263 \n",
       "F-statistic: 48.77 on 1 and 17 DF,  p-value: 2.204e-06\n"
      ]
     },
     "metadata": {},
     "output_type": "display_data"
    }
   ],
   "source": [
    "sigma.2 = 16\n",
    "beta = c(50, 10)\n",
    "x = seq(1, 10, by=1/2)\n",
    "y = rnorm(length(x), beta[1] + beta[2]*x, sigma.2)\n",
    "fit = lm(y ~ x)\n",
    "summary(fit)\n"
   ]
  },
  {
   "cell_type": "code",
   "execution_count": 275,
   "metadata": {},
   "outputs": [
    {
     "data": {
      "image/png": "[encoded data removed]",
      "text/plain": [
       "Plot with title \"\""
      ]
     },
     "metadata": {},
     "output_type": "display_data"
    }
   ],
   "source": [
    "sim <- replicate(500, {\n",
    "    y <- rnorm(length(x), beta[1] + beta[2]*x, sqrt(sigma.2))\n",
    "    lm(y ~ x)\n",
    "})\n",
    "\n",
    "beta.hat <- apply(sim, 2, coef)\n",
    "\n",
    "par(mfrow=c(1,2)) # Draws side-by-side histograms\n",
    "hist(beta.hat[\"(Intercept)\", ], freq=FALSE, main=\"\", xlab=expression(hat(beta)[0]))\n",
    "hist(beta.hat[\"x\", ], freq=FALSE, main=\"\", xlab=expression(hat(beta)[1]))\n"
   ]
  },
  {
   "cell_type": "code",
   "execution_count": 268,
   "metadata": {},
   "outputs": [
    {
     "data": {
      "image/png": "[encoded data removed]",
      "text/plain": [
       "Plot with title \"Manually computed predictions\""
      ]
     },
     "metadata": {},
     "output_type": "display_data"
    }
   ],
   "source": [
    "#b\n",
    "y.hat.0 <- apply(sim, 2, function(f) {\n",
    "    class(f) <- \"lm\"\n",
    "    predict(f, newdata=data.frame(x=5))\n",
    "})\n",
    "\n",
    "\n",
    "y.hat <- beta.hat[\"(Intercept)\", ] + beta.hat[\"x\", ] * 5\n",
    "par(mfrow=c(1,2))\n",
    "hist(y.hat.0, freq=FALSE, main=\"Output of `predict`\", cex.main=0.95, xlab=expression(hat(y)[0]))\n",
    "hist(y.hat, freq=FALSE, main=\"Manually computed predictions\", cex.main=0.95, xlab=expression(hat(y)))\n"
   ]
  },
  {
   "cell_type": "code",
   "execution_count": 276,
   "metadata": {},
   "outputs": [
    {
     "data": {
      "text/html": [
       "2.10981557783332"
      ],
      "text/latex": [
       "2.10981557783332"
      ],
      "text/markdown": [
       "2.10981557783332"
      ],
      "text/plain": [
       "[1] 2.109816"
      ]
     },
     "metadata": {},
     "output_type": "display_data"
    },
    {
     "name": "stdout",
     "output_type": "stream",
     "text": [
      "[1] \"477 (95.4%) of the intervals cover the true value.\"\n"
     ]
    }
   ],
   "source": [
    "#c\n",
    "confidence <- 95/100\n",
    "alpha <- (1 - confidence)/2\n",
    "df <- fit$df.residual\n",
    "(multiplier <- qt(1 - alpha, df))\n",
    "\n",
    "CI.beta.1 <- apply(sim, 2, function(f) {\n",
    "    class(f) <- \"lm\"\n",
    "    confint(f, \"x\", level=95/100)\n",
    "})\n",
    "\n",
    "covers <- CI.beta.1[1, ] <= beta[2] & beta[2] <= CI.beta.1[2, ]\n",
    "print(paste0(sum(covers), \" (\", mean(covers)*100, \"%) of the intervals cover the true value.\"))"
   ]
  },
  {
   "cell_type": "code",
   "execution_count": 282,
   "metadata": {},
   "outputs": [],
   "source": [
    "#d \n",
    "y.hat.0 <- apply(sim, 2, function(f) {\n",
    "    class(f) <- \"lm\"\n",
    "    predict(f, newdata=data.frame(x=5))\n",
    "})\n"
   ]
  },
  {
   "cell_type": "code",
   "execution_count": null,
   "metadata": {},
   "outputs": [],
   "source": []
  }
 ],
 "metadata": {
  "kernelspec": {
   "display_name": "R",
   "language": "R",
   "name": "ir"
  },
  "language_info": {
   "codemirror_mode": "r",
   "file_extension": ".r",
   "mimetype": "text/x-r-source",
   "name": "R",
   "pygments_lexer": "r",
   "version": "3.4.3"
  }
 },
 "nbformat": 4,
 "nbformat_minor": 2
}
